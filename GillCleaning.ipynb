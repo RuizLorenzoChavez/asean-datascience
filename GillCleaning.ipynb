{
 "cells": [
  {
   "attachments": {},
   "cell_type": "markdown",
   "metadata": {},
   "source": [
    "### Importing Libraries"
   ]
  },
  {
   "cell_type": "code",
   "execution_count": 1,
   "metadata": {},
   "outputs": [],
   "source": [
    "import numpy as np\n",
    "import pandas as pd\n",
    "import matplotlib.pyplot as plt\n",
    "import seaborn as sns"
   ]
  },
  {
   "cell_type": "code",
   "execution_count": 2,
   "metadata": {},
   "outputs": [
    {
     "name": "stdout",
     "output_type": "stream",
     "text": [
      "Requirement already satisfied: openpyxl in c:\\users\\user\\anaconda3\\envs\\data103\\lib\\site-packages (3.1.2)\n",
      "Requirement already satisfied: et-xmlfile in c:\\users\\user\\anaconda3\\envs\\data103\\lib\\site-packages (from openpyxl) (1.1.0)\n",
      "Note: you may need to restart the kernel to use updated packages.\n"
     ]
    }
   ],
   "source": [
    "pip install openpyxl"
   ]
  },
  {
   "attachments": {},
   "cell_type": "markdown",
   "metadata": {},
   "source": [
    "### Datasets and Files"
   ]
  },
  {
   "cell_type": "code",
   "execution_count": 3,
   "metadata": {},
   "outputs": [],
   "source": [
    "ease = pd.read_csv('data/ease-of-doing-business.csv', usecols=['Country Name', 'Country Code', '2019'])\n",
    "unemp = pd.read_csv('data/unemployment.csv')\n",
    "GDPgrowth = pd.read_excel('data/economic-growth-indicators.xlsx', sheet_name='Growth Rate of GDP')\n",
    "HDI = pd.read_excel('data/economic-growth-indicators.xlsx', sheet_name='HDI')\n",
    "prod = pd.read_excel('data/economic-growth-indicators.xlsx', sheet_name='Productivity')\n"
   ]
  },
  {
   "cell_type": "code",
   "execution_count": 4,
   "metadata": {},
   "outputs": [],
   "source": [
    "#ease_df = ease.filter(['Country Name', 'Country Code', '2019']).set_index('Country Name')\n",
    "ease_df = ease.set_index('Country Name')\n",
    "unemp = unemp.set_index('Country Name')"
   ]
  },
  {
   "cell_type": "code",
   "execution_count": 5,
   "metadata": {},
   "outputs": [
    {
     "data": {
      "text/plain": [
       "(266, 2)"
      ]
     },
     "metadata": {},
     "output_type": "display_data"
    },
    {
     "data": {
      "text/plain": [
       "(266, 66)"
      ]
     },
     "metadata": {},
     "output_type": "display_data"
    },
    {
     "data": {
      "text/plain": [
       "(19, 8)"
      ]
     },
     "metadata": {},
     "output_type": "display_data"
    },
    {
     "data": {
      "text/plain": [
       "(20, 9)"
      ]
     },
     "metadata": {},
     "output_type": "display_data"
    },
    {
     "data": {
      "text/plain": [
       "(12, 5)"
      ]
     },
     "metadata": {},
     "output_type": "display_data"
    }
   ],
   "source": [
    "display(ease_df.shape,unemp.shape, GDPgrowth.shape, HDI.shape, prod.shape)"
   ]
  },
  {
   "cell_type": "code",
   "execution_count": 6,
   "metadata": {},
   "outputs": [
    {
     "data": {
      "text/html": [
       "<div>\n",
       "<style scoped>\n",
       "    .dataframe tbody tr th:only-of-type {\n",
       "        vertical-align: middle;\n",
       "    }\n",
       "\n",
       "    .dataframe tbody tr th {\n",
       "        vertical-align: top;\n",
       "    }\n",
       "\n",
       "    .dataframe thead th {\n",
       "        text-align: right;\n",
       "    }\n",
       "</style>\n",
       "<table border=\"1\" class=\"dataframe\">\n",
       "  <thead>\n",
       "    <tr style=\"text-align: right;\">\n",
       "      <th></th>\n",
       "      <th>Country Code</th>\n",
       "      <th>2019</th>\n",
       "    </tr>\n",
       "    <tr>\n",
       "      <th>Country Name</th>\n",
       "      <th></th>\n",
       "      <th></th>\n",
       "    </tr>\n",
       "  </thead>\n",
       "  <tbody>\n",
       "    <tr>\n",
       "      <th>Aruba</th>\n",
       "      <td>ABW</td>\n",
       "      <td>NaN</td>\n",
       "    </tr>\n",
       "    <tr>\n",
       "      <th>Africa Eastern and Southern</th>\n",
       "      <td>AFE</td>\n",
       "      <td>NaN</td>\n",
       "    </tr>\n",
       "    <tr>\n",
       "      <th>Afghanistan</th>\n",
       "      <td>AFG</td>\n",
       "      <td>173.0</td>\n",
       "    </tr>\n",
       "    <tr>\n",
       "      <th>Africa Western and Central</th>\n",
       "      <td>AFW</td>\n",
       "      <td>NaN</td>\n",
       "    </tr>\n",
       "    <tr>\n",
       "      <th>Angola</th>\n",
       "      <td>AGO</td>\n",
       "      <td>177.0</td>\n",
       "    </tr>\n",
       "  </tbody>\n",
       "</table>\n",
       "</div>"
      ],
      "text/plain": [
       "                            Country Code   2019\n",
       "Country Name                                   \n",
       "Aruba                                ABW    NaN\n",
       "Africa Eastern and Southern          AFE    NaN\n",
       "Afghanistan                          AFG  173.0\n",
       "Africa Western and Central           AFW    NaN\n",
       "Angola                               AGO  177.0"
      ]
     },
     "execution_count": 6,
     "metadata": {},
     "output_type": "execute_result"
    }
   ],
   "source": [
    "ease_df.head()"
   ]
  },
  {
   "cell_type": "code",
   "execution_count": 7,
   "metadata": {},
   "outputs": [
    {
     "data": {
      "text/plain": [
       "77"
      ]
     },
     "execution_count": 7,
     "metadata": {},
     "output_type": "execute_result"
    }
   ],
   "source": [
    "ease_df.isnull().sum().sum()"
   ]
  },
  {
   "cell_type": "code",
   "execution_count": 8,
   "metadata": {},
   "outputs": [],
   "source": [
    "ease_df.dropna(axis=0, how='any', inplace = True) # 0 indicates the rows and inplace set to true modifies current dataframe"
   ]
  },
  {
   "cell_type": "code",
   "execution_count": 9,
   "metadata": {},
   "outputs": [
    {
     "data": {
      "text/plain": [
       "0"
      ]
     },
     "execution_count": 9,
     "metadata": {},
     "output_type": "execute_result"
    }
   ],
   "source": [
    "ease_df.isnull().sum().sum() "
   ]
  },
  {
   "cell_type": "code",
   "execution_count": 10,
   "metadata": {},
   "outputs": [
    {
     "name": "stdout",
     "output_type": "stream",
     "text": [
      "                     Country Code   2019\n",
      "Country Name                            \n",
      "Afghanistan                   AFG  173.0\n",
      "Angola                        AGO  177.0\n",
      "Albania                       ALB   82.0\n",
      "United Arab Emirates          ARE   16.0\n",
      "Argentina                     ARG  126.0\n",
      "...                           ...    ...\n",
      "Kosovo                        XKX   57.0\n",
      "Yemen, Rep.                   YEM  187.0\n",
      "South Africa                  ZAF   84.0\n",
      "Zambia                        ZMB   85.0\n",
      "Zimbabwe                      ZWE  140.0\n",
      "\n",
      "[189 rows x 2 columns]\n"
     ]
    }
   ],
   "source": [
    "print(ease_df)"
   ]
  },
  {
   "cell_type": "code",
   "execution_count": 11,
   "metadata": {},
   "outputs": [
    {
     "name": "stdout",
     "output_type": "stream",
     "text": [
      "['AFG' 'AGO' 'ALB' 'ARE' 'ARG' 'ARM' 'ATG' 'AUS' 'AUT' 'AZE' 'BDI' 'BEL'\n",
      " 'BEN' 'BFA' 'BGD' 'BGR' 'BHR' 'BHS' 'BIH' 'BLR' 'BLZ' 'BOL' 'BRA' 'BRB'\n",
      " 'BRN' 'BTN' 'BWA' 'CAF' 'CAN' 'CHE' 'CHL' 'CHN' 'CIV' 'CMR' 'COD' 'COG'\n",
      " 'COL' 'COM' 'CPV' 'CRI' 'CYP' 'CZE' 'DEU' 'DJI' 'DMA' 'DNK' 'DOM' 'DZA'\n",
      " 'ECU' 'EGY' 'ERI' 'ESP' 'EST' 'ETH' 'FIN' 'FJI' 'FRA' 'FSM' 'GAB' 'GBR'\n",
      " 'GEO' 'GHA' 'GIN' 'GMB' 'GNB' 'GNQ' 'GRC' 'GRD' 'GTM' 'GUY' 'HKG' 'HND'\n",
      " 'HRV' 'HTI' 'HUN' 'IDN' 'IND' 'IRL' 'IRN' 'IRQ' 'ISL' 'ISR' 'ITA' 'JAM'\n",
      " 'JOR' 'JPN' 'KAZ' 'KEN' 'KGZ' 'KHM' 'KIR' 'KNA' 'KOR' 'KWT' 'LAO' 'LBN'\n",
      " 'LBR' 'LBY' 'LCA' 'LKA' 'LSO' 'LTU' 'LUX' 'LVA' 'MAR' 'MDA' 'MDG' 'MDV'\n",
      " 'MEX' 'MHL' 'MKD' 'MLI' 'MLT' 'MMR' 'MNE' 'MNG' 'MOZ' 'MRT' 'MUS' 'MWI'\n",
      " 'MYS' 'NAM' 'NER' 'NGA' 'NIC' 'NLD' 'NOR' 'NPL' 'NZL' 'OMN' 'PAK' 'PAN'\n",
      " 'PER' 'PHL' 'PLW' 'PNG' 'POL' 'PRI' 'PRT' 'PRY' 'PSE' 'QAT' 'ROU' 'RUS'\n",
      " 'RWA' 'SAU' 'SDN' 'SEN' 'SGP' 'SLB' 'SLE' 'SLV' 'SMR' 'SOM' 'SRB' 'SSD'\n",
      " 'STP' 'SUR' 'SVK' 'SVN' 'SWE' 'SWZ' 'SYC' 'SYR' 'TCD' 'TGO' 'THA' 'TJK'\n",
      " 'TLS' 'TON' 'TTO' 'TUN' 'TUR' 'TZA' 'UGA' 'UKR' 'URY' 'USA' 'UZB' 'VCT'\n",
      " 'VEN' 'VNM' 'VUT' 'WSM' 'XKX' 'YEM' 'ZAF' 'ZMB' 'ZWE']\n"
     ]
    }
   ],
   "source": [
    "print(ease_df['Country Code'].unique())"
   ]
  },
  {
   "cell_type": "code",
   "execution_count": 12,
   "metadata": {},
   "outputs": [
    {
     "data": {
      "text/plain": [
       "Index(['Country Code', '2019'], dtype='object')"
      ]
     },
     "execution_count": 12,
     "metadata": {},
     "output_type": "execute_result"
    }
   ],
   "source": [
    "ease_df.columns"
   ]
  },
  {
   "cell_type": "code",
   "execution_count": 13,
   "metadata": {},
   "outputs": [
    {
     "name": "stdout",
     "output_type": "stream",
     "text": [
      "<class 'pandas.core.frame.DataFrame'>\n",
      "Index: 189 entries, Afghanistan to Zimbabwe\n",
      "Data columns (total 2 columns):\n",
      " #   Column        Non-Null Count  Dtype  \n",
      "---  ------        --------------  -----  \n",
      " 0   Country Code  189 non-null    object \n",
      " 1   2019          189 non-null    float64\n",
      "dtypes: float64(1), object(1)\n",
      "memory usage: 4.4+ KB\n"
     ]
    }
   ],
   "source": [
    "ease_df.info()"
   ]
  },
  {
   "cell_type": "code",
   "execution_count": 14,
   "metadata": {},
   "outputs": [],
   "source": [
    "#ease_df[\"Country Name\"] = ease_df[\"Country Name\"].replace(['Brunei Darussalam', 'Lao PDR'], ['Brunei', 'Laos'])\n",
    "ease_df.rename(index={'Brunei Darussalam':'Brunei','Lao PDR' : 'Laos' },inplace=True)"
   ]
  },
  {
   "cell_type": "code",
   "execution_count": 15,
   "metadata": {},
   "outputs": [
    {
     "data": {
      "text/plain": [
       "0"
      ]
     },
     "execution_count": 15,
     "metadata": {},
     "output_type": "execute_result"
    }
   ],
   "source": [
    "ease_df.isnull().sum().sum() "
   ]
  },
  {
   "cell_type": "code",
   "execution_count": 16,
   "metadata": {},
   "outputs": [
    {
     "data": {
      "text/plain": [
       "Country Code     BRN\n",
       "2019            66.0\n",
       "Name: Brunei, dtype: object"
      ]
     },
     "execution_count": 16,
     "metadata": {},
     "output_type": "execute_result"
    }
   ],
   "source": [
    "ease_df.loc['Brunei']"
   ]
  },
  {
   "cell_type": "code",
   "execution_count": 17,
   "metadata": {},
   "outputs": [],
   "source": [
    "ASEANCountries = [\"Brunei\", \"Cambodia\", \"Indonesia\", \"Laos\", \"Malaysia\", \"Myanmar\", \"Philippines\", \n",
    "                  \"Singapore\", \"Thailand\", \"Vietnam\"]"
   ]
  },
  {
   "cell_type": "code",
   "execution_count": 18,
   "metadata": {},
   "outputs": [],
   "source": [
    "ease_df_sorted= ease_df.sort_values(by ='2019')"
   ]
  },
  {
   "cell_type": "code",
   "execution_count": 19,
   "metadata": {},
   "outputs": [
    {
     "name": "stdout",
     "output_type": "stream",
     "text": [
      "                     Country Code   2019\n",
      "Country Name                            \n",
      "New Zealand                   NZL    1.0\n",
      "Singapore                     SGP    2.0\n",
      "Hong Kong SAR, China          HKG    3.0\n",
      "Denmark                       DNK    4.0\n",
      "Korea, Rep.                   KOR    5.0\n",
      "...                           ...    ...\n",
      "Libya                         LBY  186.0\n",
      "Yemen, Rep.                   YEM  187.0\n",
      "Venezuela, RB                 VEN  188.0\n",
      "Eritrea                       ERI  189.0\n",
      "Somalia                       SOM  190.0\n",
      "\n",
      "[189 rows x 2 columns]\n"
     ]
    }
   ],
   "source": [
    "print(ease_df_sorted)"
   ]
  },
  {
   "cell_type": "code",
   "execution_count": 20,
   "metadata": {},
   "outputs": [],
   "source": [
    "ease_df_sorted.to_csv('cleaned-data/Ease_of_Doing_Business_cleaned.csv', index = True) #saving a csv of the sorted and cleaned dataset"
   ]
  },
  {
   "cell_type": "code",
   "execution_count": 21,
   "metadata": {},
   "outputs": [],
   "source": [
    "ASEAN_ease = ease_df.loc[ASEANCountries].sort_values(by ='2019') #sort values has to be after loc "
   ]
  },
  {
   "cell_type": "code",
   "execution_count": 22,
   "metadata": {},
   "outputs": [
    {
     "data": {
      "image/png": "[encoded data removed]",
      "text/plain": [
       "<Figure size 500x800 with 1 Axes>"
      ]
     },
     "metadata": {},
     "output_type": "display_data"
    }
   ],
   "source": [
    "fig = plt.figure(figsize=(5,8))\n",
    "ax = fig.add_subplot(1,1,1)\n",
    "\n",
    "ASEAN_ease.plot(y = '2019', fontsize=10, kind='barh', ax=ax, edgecolor='w', color = '#F4BA00')\n",
    "\n",
    "ax.set_title('Ease of Doing Business Rank of ASEAN Countries', fontsize=12, fontweight ='bold')\n",
    "ax.set_xlabel('Rank', fontsize=10)\n",
    "ax.set_ylabel('Country Names', fontsize=10)\n",
    "ax.spines['right'].set_visible(False)\n",
    "ax.spines['top'].set_visible(False)\n",
    "ax.yaxis.grid(False)\n",
    "ax.legend(fontsize=6)\n",
    "\n",
    "for bars in ax.containers:\n",
    "    ax.bar_label(bars)\n",
    "\n",
    "\n",
    "plt.tight_layout()\n",
    "#plt.savefig(fname = 'Images/Name')"
   ]
  },
  {
   "cell_type": "code",
   "execution_count": 23,
   "metadata": {},
   "outputs": [],
   "source": [
    "ASEAN_ease.to_csv('cleaned-data/ASEAN_Ease_of_Doing_Business_cleaned.csv', index = True)"
   ]
  },
  {
   "cell_type": "code",
   "execution_count": 24,
   "metadata": {},
   "outputs": [
    {
     "data": {
      "text/html": [
       "<div>\n",
       "<style scoped>\n",
       "    .dataframe tbody tr th:only-of-type {\n",
       "        vertical-align: middle;\n",
       "    }\n",
       "\n",
       "    .dataframe tbody tr th {\n",
       "        vertical-align: top;\n",
       "    }\n",
       "\n",
       "    .dataframe thead th {\n",
       "        text-align: right;\n",
       "    }\n",
       "</style>\n",
       "<table border=\"1\" class=\"dataframe\">\n",
       "  <thead>\n",
       "    <tr style=\"text-align: right;\">\n",
       "      <th></th>\n",
       "      <th>Country Code</th>\n",
       "      <th>Indicator Name</th>\n",
       "      <th>Indicator Code</th>\n",
       "      <th>1960</th>\n",
       "      <th>1961</th>\n",
       "      <th>1962</th>\n",
       "      <th>1963</th>\n",
       "      <th>1964</th>\n",
       "      <th>1965</th>\n",
       "      <th>1966</th>\n",
       "      <th>...</th>\n",
       "      <th>2013</th>\n",
       "      <th>2014</th>\n",
       "      <th>2015</th>\n",
       "      <th>2016</th>\n",
       "      <th>2017</th>\n",
       "      <th>2018</th>\n",
       "      <th>2019</th>\n",
       "      <th>2020</th>\n",
       "      <th>2021</th>\n",
       "      <th>2022</th>\n",
       "    </tr>\n",
       "    <tr>\n",
       "      <th>Country Name</th>\n",
       "      <th></th>\n",
       "      <th></th>\n",
       "      <th></th>\n",
       "      <th></th>\n",
       "      <th></th>\n",
       "      <th></th>\n",
       "      <th></th>\n",
       "      <th></th>\n",
       "      <th></th>\n",
       "      <th></th>\n",
       "      <th></th>\n",
       "      <th></th>\n",
       "      <th></th>\n",
       "      <th></th>\n",
       "      <th></th>\n",
       "      <th></th>\n",
       "      <th></th>\n",
       "      <th></th>\n",
       "      <th></th>\n",
       "      <th></th>\n",
       "      <th></th>\n",
       "    </tr>\n",
       "  </thead>\n",
       "  <tbody>\n",
       "    <tr>\n",
       "      <th>Aruba</th>\n",
       "      <td>ABW</td>\n",
       "      <td>Unemployment, total (% of total labor force) (...</td>\n",
       "      <td>SL.UEM.TOTL.ZS</td>\n",
       "      <td>NaN</td>\n",
       "      <td>NaN</td>\n",
       "      <td>NaN</td>\n",
       "      <td>NaN</td>\n",
       "      <td>NaN</td>\n",
       "      <td>NaN</td>\n",
       "      <td>NaN</td>\n",
       "      <td>...</td>\n",
       "      <td>NaN</td>\n",
       "      <td>NaN</td>\n",
       "      <td>NaN</td>\n",
       "      <td>NaN</td>\n",
       "      <td>NaN</td>\n",
       "      <td>NaN</td>\n",
       "      <td>NaN</td>\n",
       "      <td>NaN</td>\n",
       "      <td>NaN</td>\n",
       "      <td>NaN</td>\n",
       "    </tr>\n",
       "    <tr>\n",
       "      <th>Africa Eastern and Southern</th>\n",
       "      <td>AFE</td>\n",
       "      <td>Unemployment, total (% of total labor force) (...</td>\n",
       "      <td>SL.UEM.TOTL.ZS</td>\n",
       "      <td>NaN</td>\n",
       "      <td>NaN</td>\n",
       "      <td>NaN</td>\n",
       "      <td>NaN</td>\n",
       "      <td>NaN</td>\n",
       "      <td>NaN</td>\n",
       "      <td>NaN</td>\n",
       "      <td>...</td>\n",
       "      <td>6.512784</td>\n",
       "      <td>6.555645</td>\n",
       "      <td>6.707142</td>\n",
       "      <td>6.855589</td>\n",
       "      <td>6.940365</td>\n",
       "      <td>6.913046</td>\n",
       "      <td>7.121664</td>\n",
       "      <td>7.631303</td>\n",
       "      <td>7.920219</td>\n",
       "      <td>7.916831</td>\n",
       "    </tr>\n",
       "    <tr>\n",
       "      <th>Afghanistan</th>\n",
       "      <td>AFG</td>\n",
       "      <td>Unemployment, total (% of total labor force) (...</td>\n",
       "      <td>SL.UEM.TOTL.ZS</td>\n",
       "      <td>NaN</td>\n",
       "      <td>NaN</td>\n",
       "      <td>NaN</td>\n",
       "      <td>NaN</td>\n",
       "      <td>NaN</td>\n",
       "      <td>NaN</td>\n",
       "      <td>NaN</td>\n",
       "      <td>...</td>\n",
       "      <td>7.949000</td>\n",
       "      <td>7.910000</td>\n",
       "      <td>8.989000</td>\n",
       "      <td>10.086000</td>\n",
       "      <td>11.180000</td>\n",
       "      <td>11.110000</td>\n",
       "      <td>11.085000</td>\n",
       "      <td>11.710000</td>\n",
       "      <td>NaN</td>\n",
       "      <td>NaN</td>\n",
       "    </tr>\n",
       "    <tr>\n",
       "      <th>Africa Western and Central</th>\n",
       "      <td>AFW</td>\n",
       "      <td>Unemployment, total (% of total labor force) (...</td>\n",
       "      <td>SL.UEM.TOTL.ZS</td>\n",
       "      <td>NaN</td>\n",
       "      <td>NaN</td>\n",
       "      <td>NaN</td>\n",
       "      <td>NaN</td>\n",
       "      <td>NaN</td>\n",
       "      <td>NaN</td>\n",
       "      <td>NaN</td>\n",
       "      <td>...</td>\n",
       "      <td>3.804447</td>\n",
       "      <td>3.985878</td>\n",
       "      <td>4.241136</td>\n",
       "      <td>4.112958</td>\n",
       "      <td>4.140484</td>\n",
       "      <td>4.201599</td>\n",
       "      <td>4.261414</td>\n",
       "      <td>4.914143</td>\n",
       "      <td>4.873635</td>\n",
       "      <td>4.742175</td>\n",
       "    </tr>\n",
       "    <tr>\n",
       "      <th>Angola</th>\n",
       "      <td>AGO</td>\n",
       "      <td>Unemployment, total (% of total labor force) (...</td>\n",
       "      <td>SL.UEM.TOTL.ZS</td>\n",
       "      <td>NaN</td>\n",
       "      <td>NaN</td>\n",
       "      <td>NaN</td>\n",
       "      <td>NaN</td>\n",
       "      <td>NaN</td>\n",
       "      <td>NaN</td>\n",
       "      <td>NaN</td>\n",
       "      <td>...</td>\n",
       "      <td>8.834000</td>\n",
       "      <td>9.580000</td>\n",
       "      <td>9.584000</td>\n",
       "      <td>9.586000</td>\n",
       "      <td>9.535000</td>\n",
       "      <td>9.522000</td>\n",
       "      <td>9.481000</td>\n",
       "      <td>10.350000</td>\n",
       "      <td>10.384000</td>\n",
       "      <td>10.209000</td>\n",
       "    </tr>\n",
       "  </tbody>\n",
       "</table>\n",
       "<p>5 rows × 66 columns</p>\n",
       "</div>"
      ],
      "text/plain": [
       "                            Country Code  \\\n",
       "Country Name                               \n",
       "Aruba                                ABW   \n",
       "Africa Eastern and Southern          AFE   \n",
       "Afghanistan                          AFG   \n",
       "Africa Western and Central           AFW   \n",
       "Angola                               AGO   \n",
       "\n",
       "                                                                Indicator Name  \\\n",
       "Country Name                                                                     \n",
       "Aruba                        Unemployment, total (% of total labor force) (...   \n",
       "Africa Eastern and Southern  Unemployment, total (% of total labor force) (...   \n",
       "Afghanistan                  Unemployment, total (% of total labor force) (...   \n",
       "Africa Western and Central   Unemployment, total (% of total labor force) (...   \n",
       "Angola                       Unemployment, total (% of total labor force) (...   \n",
       "\n",
       "                             Indicator Code  1960  1961  1962  1963  1964  \\\n",
       "Country Name                                                                \n",
       "Aruba                        SL.UEM.TOTL.ZS   NaN   NaN   NaN   NaN   NaN   \n",
       "Africa Eastern and Southern  SL.UEM.TOTL.ZS   NaN   NaN   NaN   NaN   NaN   \n",
       "Afghanistan                  SL.UEM.TOTL.ZS   NaN   NaN   NaN   NaN   NaN   \n",
       "Africa Western and Central   SL.UEM.TOTL.ZS   NaN   NaN   NaN   NaN   NaN   \n",
       "Angola                       SL.UEM.TOTL.ZS   NaN   NaN   NaN   NaN   NaN   \n",
       "\n",
       "                             1965  1966  ...      2013      2014      2015  \\\n",
       "Country Name                             ...                                 \n",
       "Aruba                         NaN   NaN  ...       NaN       NaN       NaN   \n",
       "Africa Eastern and Southern   NaN   NaN  ...  6.512784  6.555645  6.707142   \n",
       "Afghanistan                   NaN   NaN  ...  7.949000  7.910000  8.989000   \n",
       "Africa Western and Central    NaN   NaN  ...  3.804447  3.985878  4.241136   \n",
       "Angola                        NaN   NaN  ...  8.834000  9.580000  9.584000   \n",
       "\n",
       "                                  2016       2017       2018       2019  \\\n",
       "Country Name                                                              \n",
       "Aruba                              NaN        NaN        NaN        NaN   \n",
       "Africa Eastern and Southern   6.855589   6.940365   6.913046   7.121664   \n",
       "Afghanistan                  10.086000  11.180000  11.110000  11.085000   \n",
       "Africa Western and Central    4.112958   4.140484   4.201599   4.261414   \n",
       "Angola                        9.586000   9.535000   9.522000   9.481000   \n",
       "\n",
       "                                  2020       2021       2022  \n",
       "Country Name                                                  \n",
       "Aruba                              NaN        NaN        NaN  \n",
       "Africa Eastern and Southern   7.631303   7.920219   7.916831  \n",
       "Afghanistan                  11.710000        NaN        NaN  \n",
       "Africa Western and Central    4.914143   4.873635   4.742175  \n",
       "Angola                       10.350000  10.384000  10.209000  \n",
       "\n",
       "[5 rows x 66 columns]"
      ]
     },
     "execution_count": 24,
     "metadata": {},
     "output_type": "execute_result"
    }
   ],
   "source": [
    "unemp.head()"
   ]
  },
  {
   "cell_type": "code",
   "execution_count": 25,
   "metadata": {},
   "outputs": [
    {
     "data": {
      "text/plain": [
       "9246"
      ]
     },
     "execution_count": 25,
     "metadata": {},
     "output_type": "execute_result"
    }
   ],
   "source": [
    "unemp.isnull().sum().sum()"
   ]
  },
  {
   "cell_type": "code",
   "execution_count": 26,
   "metadata": {},
   "outputs": [],
   "source": [
    "unemp.dropna(axis=0, how='all', inplace = True) # 0 indicates the rows and inplace set to true modifies current dataframe"
   ]
  },
  {
   "cell_type": "code",
   "execution_count": 27,
   "metadata": {},
   "outputs": [
    {
     "data": {
      "text/plain": [
       "9246"
      ]
     },
     "execution_count": 27,
     "metadata": {},
     "output_type": "execute_result"
    }
   ],
   "source": [
    "unemp.isnull().sum().sum()"
   ]
  },
  {
   "cell_type": "code",
   "execution_count": 28,
   "metadata": {},
   "outputs": [],
   "source": [
    "unemp.dropna(axis=1, how='all', inplace = True)"
   ]
  },
  {
   "cell_type": "code",
   "execution_count": 29,
   "metadata": {},
   "outputs": [
    {
     "data": {
      "text/plain": [
       "1000"
      ]
     },
     "execution_count": 29,
     "metadata": {},
     "output_type": "execute_result"
    }
   ],
   "source": [
    "unemp.isnull().sum().sum()"
   ]
  },
  {
   "cell_type": "code",
   "execution_count": 30,
   "metadata": {},
   "outputs": [
    {
     "name": "stdout",
     "output_type": "stream",
     "text": [
      "['ABW' 'AFE' 'AFG' 'AFW' 'AGO' 'ALB' 'AND' 'ARB' 'ARE' 'ARG' 'ARM' 'ASM'\n",
      " 'ATG' 'AUS' 'AUT' 'AZE' 'BDI' 'BEL' 'BEN' 'BFA' 'BGD' 'BGR' 'BHR' 'BHS'\n",
      " 'BIH' 'BLR' 'BLZ' 'BMU' 'BOL' 'BRA' 'BRB' 'BRN' 'BTN' 'BWA' 'CAF' 'CAN'\n",
      " 'CEB' 'CHE' 'CHI' 'CHL' 'CHN' 'CIV' 'CMR' 'COD' 'COG' 'COL' 'COM' 'CPV'\n",
      " 'CRI' 'CSS' 'CUB' 'CUW' 'CYM' 'CYP' 'CZE' 'DEU' 'DJI' 'DMA' 'DNK' 'DOM'\n",
      " 'DZA' 'EAP' 'EAR' 'EAS' 'ECA' 'ECS' 'ECU' 'EGY' 'EMU' 'ERI' 'ESP' 'EST'\n",
      " 'ETH' 'EUU' 'FCS' 'FIN' 'FJI' 'FRA' 'FRO' 'FSM' 'GAB' 'GBR' 'GEO' 'GHA'\n",
      " 'GIB' 'GIN' 'GMB' 'GNB' 'GNQ' 'GRC' 'GRD' 'GRL' 'GTM' 'GUM' 'GUY' 'HIC'\n",
      " 'HKG' 'HND' 'HPC' 'HRV' 'HTI' 'HUN' 'IBD' 'IBT' 'IDA' 'IDB' 'IDN' 'IDX'\n",
      " 'IMN' 'IND' 'INX' 'IRL' 'IRN' 'IRQ' 'ISL' 'ISR' 'ITA' 'JAM' 'JOR' 'JPN'\n",
      " 'KAZ' 'KEN' 'KGZ' 'KHM' 'KIR' 'KNA' 'KOR' 'KWT' 'LAC' 'LAO' 'LBN' 'LBR'\n",
      " 'LBY' 'LCA' 'LCN' 'LDC' 'LIC' 'LIE' 'LKA' 'LMC' 'LMY' 'LSO' 'LTE' 'LTU'\n",
      " 'LUX' 'LVA' 'MAC' 'MAF' 'MAR' 'MCO' 'MDA' 'MDG' 'MDV' 'MEA' 'MEX' 'MHL'\n",
      " 'MIC' 'MKD' 'MLI' 'MLT' 'MMR' 'MNA' 'MNE' 'MNG' 'MNP' 'MOZ' 'MRT' 'MUS'\n",
      " 'MWI' 'MYS' 'NAC' 'NAM' 'NCL' 'NER' 'NGA' 'NIC' 'NLD' 'NOR' 'NPL' 'NRU'\n",
      " 'NZL' 'OED' 'OMN' 'OSS' 'PAK' 'PAN' 'PER' 'PHL' 'PLW' 'PNG' 'POL' 'PRE'\n",
      " 'PRI' 'PRK' 'PRT' 'PRY' 'PSE' 'PSS' 'PST' 'PYF' 'QAT' 'ROU' 'RUS' 'RWA'\n",
      " 'SAS' 'SAU' 'SDN' 'SEN' 'SGP' 'SLB' 'SLE' 'SLV' 'SMR' 'SOM' 'SRB' 'SSA'\n",
      " 'SSD' 'SSF' 'SST' 'STP' 'SUR' 'SVK' 'SVN' 'SWE' 'SWZ' 'SXM' 'SYC' 'SYR'\n",
      " 'TCA' 'TCD' 'TEA' 'TEC' 'TGO' 'THA' 'TJK' 'TKM' 'TLA' 'TLS' 'TMN' 'TON'\n",
      " 'TSA' 'TSS' 'TTO' 'TUN' 'TUR' 'TUV' 'TZA' 'UGA' 'UKR' 'UMC' 'URY' 'USA'\n",
      " 'UZB' 'VCT' 'VEN' 'VGB' 'VIR' 'VNM' 'VUT' 'WLD' 'WSM' 'XKX' 'YEM' 'ZAF'\n",
      " 'ZMB' 'ZWE']\n"
     ]
    }
   ],
   "source": [
    "print(unemp['Country Code'].unique())"
   ]
  },
  {
   "cell_type": "code",
   "execution_count": 31,
   "metadata": {},
   "outputs": [],
   "source": [
    "#unemp[\"Country Name\"] = unemp[\"Country Name\"].replace(['Brunei Darussalam', 'Lao PDR'], ['Brunei', 'Laos'])\n",
    "unemp.rename(index={'Brunei Darussalam':'Brunei','Lao PDR' : 'Laos' },inplace=True)"
   ]
  },
  {
   "cell_type": "code",
   "execution_count": 32,
   "metadata": {},
   "outputs": [
    {
     "data": {
      "text/html": [
       "<div>\n",
       "<style scoped>\n",
       "    .dataframe tbody tr th:only-of-type {\n",
       "        vertical-align: middle;\n",
       "    }\n",
       "\n",
       "    .dataframe tbody tr th {\n",
       "        vertical-align: top;\n",
       "    }\n",
       "\n",
       "    .dataframe thead th {\n",
       "        text-align: right;\n",
       "    }\n",
       "</style>\n",
       "<table border=\"1\" class=\"dataframe\">\n",
       "  <thead>\n",
       "    <tr style=\"text-align: right;\">\n",
       "      <th></th>\n",
       "      <th>Country Code</th>\n",
       "      <th>Indicator Name</th>\n",
       "      <th>Indicator Code</th>\n",
       "      <th>1991</th>\n",
       "      <th>1992</th>\n",
       "      <th>1993</th>\n",
       "      <th>1994</th>\n",
       "      <th>1995</th>\n",
       "      <th>1996</th>\n",
       "      <th>1997</th>\n",
       "      <th>...</th>\n",
       "      <th>2013</th>\n",
       "      <th>2014</th>\n",
       "      <th>2015</th>\n",
       "      <th>2016</th>\n",
       "      <th>2017</th>\n",
       "      <th>2018</th>\n",
       "      <th>2019</th>\n",
       "      <th>2020</th>\n",
       "      <th>2021</th>\n",
       "      <th>2022</th>\n",
       "    </tr>\n",
       "    <tr>\n",
       "      <th>Country Name</th>\n",
       "      <th></th>\n",
       "      <th></th>\n",
       "      <th></th>\n",
       "      <th></th>\n",
       "      <th></th>\n",
       "      <th></th>\n",
       "      <th></th>\n",
       "      <th></th>\n",
       "      <th></th>\n",
       "      <th></th>\n",
       "      <th></th>\n",
       "      <th></th>\n",
       "      <th></th>\n",
       "      <th></th>\n",
       "      <th></th>\n",
       "      <th></th>\n",
       "      <th></th>\n",
       "      <th></th>\n",
       "      <th></th>\n",
       "      <th></th>\n",
       "      <th></th>\n",
       "    </tr>\n",
       "  </thead>\n",
       "  <tbody>\n",
       "    <tr>\n",
       "      <th>Brunei</th>\n",
       "      <td>BRN</td>\n",
       "      <td>Unemployment, total (% of total labor force) (...</td>\n",
       "      <td>SL.UEM.TOTL.ZS</td>\n",
       "      <td>4.700</td>\n",
       "      <td>4.824</td>\n",
       "      <td>4.863</td>\n",
       "      <td>5.004</td>\n",
       "      <td>5.125</td>\n",
       "      <td>5.202</td>\n",
       "      <td>5.234</td>\n",
       "      <td>...</td>\n",
       "      <td>6.770</td>\n",
       "      <td>6.860</td>\n",
       "      <td>7.693</td>\n",
       "      <td>8.432</td>\n",
       "      <td>9.32</td>\n",
       "      <td>8.700</td>\n",
       "      <td>6.920</td>\n",
       "      <td>7.410</td>\n",
       "      <td>7.446</td>\n",
       "      <td>7.203</td>\n",
       "    </tr>\n",
       "    <tr>\n",
       "      <th>Cambodia</th>\n",
       "      <td>KHM</td>\n",
       "      <td>Unemployment, total (% of total labor force) (...</td>\n",
       "      <td>SL.UEM.TOTL.ZS</td>\n",
       "      <td>0.749</td>\n",
       "      <td>0.768</td>\n",
       "      <td>0.813</td>\n",
       "      <td>1.380</td>\n",
       "      <td>0.785</td>\n",
       "      <td>0.840</td>\n",
       "      <td>0.913</td>\n",
       "      <td>...</td>\n",
       "      <td>0.440</td>\n",
       "      <td>0.690</td>\n",
       "      <td>0.390</td>\n",
       "      <td>0.720</td>\n",
       "      <td>0.14</td>\n",
       "      <td>0.142</td>\n",
       "      <td>0.146</td>\n",
       "      <td>0.298</td>\n",
       "      <td>0.295</td>\n",
       "      <td>0.361</td>\n",
       "    </tr>\n",
       "    <tr>\n",
       "      <th>Indonesia</th>\n",
       "      <td>IDN</td>\n",
       "      <td>Unemployment, total (% of total labor force) (...</td>\n",
       "      <td>SL.UEM.TOTL.ZS</td>\n",
       "      <td>2.620</td>\n",
       "      <td>2.730</td>\n",
       "      <td>2.780</td>\n",
       "      <td>4.370</td>\n",
       "      <td>4.597</td>\n",
       "      <td>4.860</td>\n",
       "      <td>4.680</td>\n",
       "      <td>...</td>\n",
       "      <td>4.340</td>\n",
       "      <td>4.050</td>\n",
       "      <td>4.510</td>\n",
       "      <td>4.300</td>\n",
       "      <td>3.78</td>\n",
       "      <td>4.390</td>\n",
       "      <td>3.590</td>\n",
       "      <td>4.250</td>\n",
       "      <td>3.830</td>\n",
       "      <td>3.554</td>\n",
       "    </tr>\n",
       "    <tr>\n",
       "      <th>Laos</th>\n",
       "      <td>LAO</td>\n",
       "      <td>Unemployment, total (% of total labor force) (...</td>\n",
       "      <td>SL.UEM.TOTL.ZS</td>\n",
       "      <td>2.611</td>\n",
       "      <td>2.576</td>\n",
       "      <td>2.590</td>\n",
       "      <td>2.506</td>\n",
       "      <td>2.600</td>\n",
       "      <td>2.485</td>\n",
       "      <td>2.367</td>\n",
       "      <td>...</td>\n",
       "      <td>1.775</td>\n",
       "      <td>2.146</td>\n",
       "      <td>2.521</td>\n",
       "      <td>2.896</td>\n",
       "      <td>3.27</td>\n",
       "      <td>3.266</td>\n",
       "      <td>3.273</td>\n",
       "      <td>3.576</td>\n",
       "      <td>3.637</td>\n",
       "      <td>2.633</td>\n",
       "    </tr>\n",
       "    <tr>\n",
       "      <th>Malaysia</th>\n",
       "      <td>MYS</td>\n",
       "      <td>Unemployment, total (% of total labor force) (...</td>\n",
       "      <td>SL.UEM.TOTL.ZS</td>\n",
       "      <td>3.660</td>\n",
       "      <td>3.710</td>\n",
       "      <td>4.110</td>\n",
       "      <td>3.655</td>\n",
       "      <td>3.150</td>\n",
       "      <td>2.520</td>\n",
       "      <td>2.450</td>\n",
       "      <td>...</td>\n",
       "      <td>3.160</td>\n",
       "      <td>2.880</td>\n",
       "      <td>3.100</td>\n",
       "      <td>3.440</td>\n",
       "      <td>3.41</td>\n",
       "      <td>3.300</td>\n",
       "      <td>3.260</td>\n",
       "      <td>4.540</td>\n",
       "      <td>4.046</td>\n",
       "      <td>3.730</td>\n",
       "    </tr>\n",
       "  </tbody>\n",
       "</table>\n",
       "<p>5 rows × 35 columns</p>\n",
       "</div>"
      ],
      "text/plain": [
       "             Country Code                                     Indicator Name  \\\n",
       "Country Name                                                                   \n",
       "Brunei                BRN  Unemployment, total (% of total labor force) (...   \n",
       "Cambodia              KHM  Unemployment, total (% of total labor force) (...   \n",
       "Indonesia             IDN  Unemployment, total (% of total labor force) (...   \n",
       "Laos                  LAO  Unemployment, total (% of total labor force) (...   \n",
       "Malaysia              MYS  Unemployment, total (% of total labor force) (...   \n",
       "\n",
       "              Indicator Code   1991   1992   1993   1994   1995   1996   1997  \\\n",
       "Country Name                                                                    \n",
       "Brunei        SL.UEM.TOTL.ZS  4.700  4.824  4.863  5.004  5.125  5.202  5.234   \n",
       "Cambodia      SL.UEM.TOTL.ZS  0.749  0.768  0.813  1.380  0.785  0.840  0.913   \n",
       "Indonesia     SL.UEM.TOTL.ZS  2.620  2.730  2.780  4.370  4.597  4.860  4.680   \n",
       "Laos          SL.UEM.TOTL.ZS  2.611  2.576  2.590  2.506  2.600  2.485  2.367   \n",
       "Malaysia      SL.UEM.TOTL.ZS  3.660  3.710  4.110  3.655  3.150  2.520  2.450   \n",
       "\n",
       "              ...   2013   2014   2015   2016  2017   2018   2019   2020  \\\n",
       "Country Name  ...                                                          \n",
       "Brunei        ...  6.770  6.860  7.693  8.432  9.32  8.700  6.920  7.410   \n",
       "Cambodia      ...  0.440  0.690  0.390  0.720  0.14  0.142  0.146  0.298   \n",
       "Indonesia     ...  4.340  4.050  4.510  4.300  3.78  4.390  3.590  4.250   \n",
       "Laos          ...  1.775  2.146  2.521  2.896  3.27  3.266  3.273  3.576   \n",
       "Malaysia      ...  3.160  2.880  3.100  3.440  3.41  3.300  3.260  4.540   \n",
       "\n",
       "               2021   2022  \n",
       "Country Name                \n",
       "Brunei        7.446  7.203  \n",
       "Cambodia      0.295  0.361  \n",
       "Indonesia     3.830  3.554  \n",
       "Laos          3.637  2.633  \n",
       "Malaysia      4.046  3.730  \n",
       "\n",
       "[5 rows x 35 columns]"
      ]
     },
     "execution_count": 32,
     "metadata": {},
     "output_type": "execute_result"
    }
   ],
   "source": [
    "ASEAN_unemp = unemp.loc[ASEANCountries]\n",
    "ASEAN_unemp.head()"
   ]
  },
  {
   "cell_type": "code",
   "execution_count": 33,
   "metadata": {},
   "outputs": [],
   "source": [
    "ASEAN_unemp.to_csv('cleaned-data/ASEAN_Unemployed_cleaned.csv', index = True)"
   ]
  },
  {
   "cell_type": "code",
   "execution_count": 34,
   "metadata": {},
   "outputs": [],
   "source": [
    "ASEAN_Unemployed_5years = pd.read_csv('cleaned-data/ASEAN_Unemployed_cleaned.csv', usecols=['Country Name', '2018',\n",
    "                                                                                            '2019', '2020','2021','2022'])"
   ]
  },
  {
   "cell_type": "code",
   "execution_count": 35,
   "metadata": {},
   "outputs": [
    {
     "data": {
      "text/plain": [
       "<AxesSubplot:xlabel='Country Name'>"
      ]
     },
     "execution_count": 35,
     "metadata": {},
     "output_type": "execute_result"
    },
    {
     "data": {
      "image/png": "[encoded data removed]",
      "text/plain": [
       "<Figure size 640x480 with 1 Axes>"
      ]
     },
     "metadata": {},
     "output_type": "display_data"
    }
   ],
   "source": [
    "#ax = ASEAN_Unemployed_5years.plot.line(x='2018', '2019', '2020','2021','2022')\n",
    "ASEAN_Unemployed_5years.plot('Country Name',['2018', '2019', '2020','2021','2022'],kind = 'line')"
   ]
  },
  {
   "cell_type": "code",
   "execution_count": 36,
   "metadata": {},
   "outputs": [
    {
     "data": {
      "text/html": [
       "<div>\n",
       "<style scoped>\n",
       "    .dataframe tbody tr th:only-of-type {\n",
       "        vertical-align: middle;\n",
       "    }\n",
       "\n",
       "    .dataframe tbody tr th {\n",
       "        vertical-align: top;\n",
       "    }\n",
       "\n",
       "    .dataframe thead th {\n",
       "        text-align: right;\n",
       "    }\n",
       "</style>\n",
       "<table border=\"1\" class=\"dataframe\">\n",
       "  <thead>\n",
       "    <tr style=\"text-align: right;\">\n",
       "      <th>Country Name</th>\n",
       "      <th>Brunei</th>\n",
       "      <th>Cambodia</th>\n",
       "      <th>Indonesia</th>\n",
       "      <th>Laos</th>\n",
       "      <th>Malaysia</th>\n",
       "      <th>Myanmar</th>\n",
       "      <th>Philippines</th>\n",
       "      <th>Singapore</th>\n",
       "      <th>Thailand</th>\n",
       "      <th>Vietnam</th>\n",
       "    </tr>\n",
       "  </thead>\n",
       "  <tbody>\n",
       "    <tr>\n",
       "      <th>2018</th>\n",
       "      <td>8.7</td>\n",
       "      <td>0.142</td>\n",
       "      <td>4.39</td>\n",
       "      <td>3.266</td>\n",
       "      <td>3.3</td>\n",
       "      <td>0.77</td>\n",
       "      <td>2.34</td>\n",
       "      <td>3.641</td>\n",
       "      <td>0.77</td>\n",
       "      <td>1.16</td>\n",
       "    </tr>\n",
       "    <tr>\n",
       "      <th>2019</th>\n",
       "      <td>6.92</td>\n",
       "      <td>0.146</td>\n",
       "      <td>3.59</td>\n",
       "      <td>3.273</td>\n",
       "      <td>3.26</td>\n",
       "      <td>0.41</td>\n",
       "      <td>2.24</td>\n",
       "      <td>3.1</td>\n",
       "      <td>0.72</td>\n",
       "      <td>1.68</td>\n",
       "    </tr>\n",
       "    <tr>\n",
       "      <th>2020</th>\n",
       "      <td>7.41</td>\n",
       "      <td>0.298</td>\n",
       "      <td>4.25</td>\n",
       "      <td>3.576</td>\n",
       "      <td>4.54</td>\n",
       "      <td>1.48</td>\n",
       "      <td>2.52</td>\n",
       "      <td>4.1</td>\n",
       "      <td>1.1</td>\n",
       "      <td>2.1</td>\n",
       "    </tr>\n",
       "    <tr>\n",
       "      <th>2021</th>\n",
       "      <td>7.446</td>\n",
       "      <td>0.295</td>\n",
       "      <td>3.83</td>\n",
       "      <td>3.637</td>\n",
       "      <td>4.046</td>\n",
       "      <td>NaN</td>\n",
       "      <td>2.632</td>\n",
       "      <td>3.54</td>\n",
       "      <td>0.992</td>\n",
       "      <td>2.38</td>\n",
       "    </tr>\n",
       "    <tr>\n",
       "      <th>2022</th>\n",
       "      <td>7.203</td>\n",
       "      <td>0.361</td>\n",
       "      <td>3.554</td>\n",
       "      <td>2.633</td>\n",
       "      <td>3.73</td>\n",
       "      <td>NaN</td>\n",
       "      <td>2.238</td>\n",
       "      <td>2.758</td>\n",
       "      <td>0.862</td>\n",
       "      <td>1.923</td>\n",
       "    </tr>\n",
       "  </tbody>\n",
       "</table>\n",
       "</div>"
      ],
      "text/plain": [
       "Country Name Brunei Cambodia Indonesia   Laos Malaysia Myanmar Philippines  \\\n",
       "2018            8.7    0.142      4.39  3.266      3.3    0.77        2.34   \n",
       "2019           6.92    0.146      3.59  3.273     3.26    0.41        2.24   \n",
       "2020           7.41    0.298      4.25  3.576     4.54    1.48        2.52   \n",
       "2021          7.446    0.295      3.83  3.637    4.046     NaN       2.632   \n",
       "2022          7.203    0.361     3.554  2.633     3.73     NaN       2.238   \n",
       "\n",
       "Country Name Singapore Thailand Vietnam  \n",
       "2018             3.641     0.77    1.16  \n",
       "2019               3.1     0.72    1.68  \n",
       "2020               4.1      1.1     2.1  \n",
       "2021              3.54    0.992    2.38  \n",
       "2022             2.758    0.862   1.923  "
      ]
     },
     "execution_count": 36,
     "metadata": {},
     "output_type": "execute_result"
    }
   ],
   "source": [
    "ASEAN_Unemployed_5years_transposed = ASEAN_Unemployed_5years.T\n",
    "#test = ASEAN_Unemployed_5years_transposed.rename(columns={'Country Name': 'Year'},inplace=True)\n",
    "#print(test)\n",
    "#ASEAN_Unemployed_5years_transposed.rename(index={'Country Name': 'Year'}, columns={'0': 'Brunei', '1': 'Cambodia', '2' : 'Indonesia', '3':'Laos','4':'Malaysia','5' :'Mayanmar', '6':'Philippines', '7':'Singapore', '8':'Thailand', '9':'Vietnam'},inplace=True)\n",
    "#ASEAN_Unemployed_5years_transposed.drop(index=ASEAN_Unemployed_5years_transposed.index[0], axis=0, inplace=True)\n",
    "ASEAN_Unemployed_5years_transposed.columns = ASEAN_Unemployed_5years_transposed.iloc[0] # setting new index\n",
    "ASEAN_Unemployed_5years_transposed_new = ASEAN_Unemployed_5years_transposed[1:] #creating a new dataframe by removing extra row\n",
    "ASEAN_Unemployed_5years_transposed_new\n",
    "\n"
   ]
  },
  {
   "cell_type": "code",
   "execution_count": 37,
   "metadata": {},
   "outputs": [],
   "source": [
    "ASEAN_Unemployed_5years_transposed_new.to_csv('cleaned-data/ASEAN_Unemployed_5years_cleaned_transposed.csv', index = True)"
   ]
  },
  {
   "cell_type": "code",
   "execution_count": 40,
   "metadata": {},
   "outputs": [
    {
     "data": {
      "text/plain": [
       "<AxesSubplot:>"
      ]
     },
     "execution_count": 40,
     "metadata": {},
     "output_type": "execute_result"
    },
    {
     "data": {
      "image/png": "[encoded data removed]",
      "text/plain": [
       "<Figure size 640x480 with 1 Axes>"
      ]
     },
     "metadata": {},
     "output_type": "display_data"
    }
   ],
   "source": [
    "ASEAN_Unemployed_5years_transposed_new.plot(kind = 'line')\n"
   ]
  },
  {
   "cell_type": "code",
   "execution_count": null,
   "metadata": {},
   "outputs": [
    {
     "data": {
      "text/html": [
       "<div>\n",
       "<style scoped>\n",
       "    .dataframe tbody tr th:only-of-type {\n",
       "        vertical-align: middle;\n",
       "    }\n",
       "\n",
       "    .dataframe tbody tr th {\n",
       "        vertical-align: top;\n",
       "    }\n",
       "\n",
       "    .dataframe thead th {\n",
       "        text-align: right;\n",
       "    }\n",
       "</style>\n",
       "<table border=\"1\" class=\"dataframe\">\n",
       "  <thead>\n",
       "    <tr style=\"text-align: right;\">\n",
       "      <th></th>\n",
       "      <th>Unnamed: 0</th>\n",
       "      <th>2018</th>\n",
       "      <th>2019</th>\n",
       "      <th>2020</th>\n",
       "      <th>2021</th>\n",
       "      <th>2022</th>\n",
       "      <th>2023</th>\n",
       "      <th>2024</th>\n",
       "    </tr>\n",
       "  </thead>\n",
       "  <tbody>\n",
       "    <tr>\n",
       "      <th>0</th>\n",
       "      <td>Afghanistan</td>\n",
       "      <td>1.2</td>\n",
       "      <td>3.9</td>\n",
       "      <td>-2.4</td>\n",
       "      <td>-20.7</td>\n",
       "      <td>NaN</td>\n",
       "      <td>NaN</td>\n",
       "      <td>NaN</td>\n",
       "    </tr>\n",
       "    <tr>\n",
       "      <th>1</th>\n",
       "      <td>Bangladesh</td>\n",
       "      <td>7.3</td>\n",
       "      <td>7.9</td>\n",
       "      <td>3.4</td>\n",
       "      <td>6.9</td>\n",
       "      <td>7.1</td>\n",
       "      <td>5.3</td>\n",
       "      <td>6.5</td>\n",
       "    </tr>\n",
       "    <tr>\n",
       "      <th>2</th>\n",
       "      <td>Bhutan</td>\n",
       "      <td>3.1</td>\n",
       "      <td>5.8</td>\n",
       "      <td>-10.0</td>\n",
       "      <td>4.1</td>\n",
       "      <td>4.7</td>\n",
       "      <td>4.6</td>\n",
       "      <td>4.2</td>\n",
       "    </tr>\n",
       "    <tr>\n",
       "      <th>3</th>\n",
       "      <td>India</td>\n",
       "      <td>6.5</td>\n",
       "      <td>3.9</td>\n",
       "      <td>-5.8</td>\n",
       "      <td>9.1</td>\n",
       "      <td>6.8</td>\n",
       "      <td>6.4</td>\n",
       "      <td>6.7</td>\n",
       "    </tr>\n",
       "    <tr>\n",
       "      <th>4</th>\n",
       "      <td>Maldives</td>\n",
       "      <td>8.1</td>\n",
       "      <td>7.1</td>\n",
       "      <td>-33.5</td>\n",
       "      <td>41.7</td>\n",
       "      <td>12.3</td>\n",
       "      <td>7.1</td>\n",
       "      <td>6.9</td>\n",
       "    </tr>\n",
       "  </tbody>\n",
       "</table>\n",
       "</div>"
      ],
      "text/plain": [
       "    Unnamed: 0  2018  2019  2020  2021  2022  2023  2024\n",
       "0  Afghanistan   1.2   3.9  -2.4 -20.7   NaN   NaN   NaN\n",
       "1   Bangladesh   7.3   7.9   3.4   6.9   7.1   5.3   6.5\n",
       "2       Bhutan   3.1   5.8 -10.0   4.1   4.7   4.6   4.2\n",
       "3        India   6.5   3.9  -5.8   9.1   6.8   6.4   6.7\n",
       "4     Maldives   8.1   7.1 -33.5  41.7  12.3   7.1   6.9"
      ]
     },
     "execution_count": 24,
     "metadata": {},
     "output_type": "execute_result"
    }
   ],
   "source": [
    "GDPgrowth.head()"
   ]
  },
  {
   "cell_type": "code",
   "execution_count": null,
   "metadata": {},
   "outputs": [
    {
     "data": {
      "text/html": [
       "<div>\n",
       "<style scoped>\n",
       "    .dataframe tbody tr th:only-of-type {\n",
       "        vertical-align: middle;\n",
       "    }\n",
       "\n",
       "    .dataframe tbody tr th {\n",
       "        vertical-align: top;\n",
       "    }\n",
       "\n",
       "    .dataframe thead th {\n",
       "        text-align: right;\n",
       "    }\n",
       "</style>\n",
       "<table border=\"1\" class=\"dataframe\">\n",
       "  <thead>\n",
       "    <tr style=\"text-align: right;\">\n",
       "      <th></th>\n",
       "      <th>Unnamed: 0</th>\n",
       "      <th>2018 HDI value</th>\n",
       "      <th>2019 HDI value</th>\n",
       "      <th>2020 HDI value</th>\n",
       "      <th>2021 HDI value</th>\n",
       "      <th>Life expectancy at birth in years (2021)</th>\n",
       "      <th>Expected years of schooling in years (2021)</th>\n",
       "      <th>Mean years of schooling in years (2021)</th>\n",
       "      <th>Gross national income (GNI) per capita (2021)</th>\n",
       "    </tr>\n",
       "  </thead>\n",
       "  <tbody>\n",
       "    <tr>\n",
       "      <th>0</th>\n",
       "      <td>Afghanistan</td>\n",
       "      <td>0.483</td>\n",
       "      <td>0.488</td>\n",
       "      <td>0.483</td>\n",
       "      <td>0.478</td>\n",
       "      <td>62.0</td>\n",
       "      <td>10.3</td>\n",
       "      <td>3.0</td>\n",
       "      <td>1824.0</td>\n",
       "    </tr>\n",
       "    <tr>\n",
       "      <th>1</th>\n",
       "      <td>Bangladesh</td>\n",
       "      <td>0.635</td>\n",
       "      <td>0.644</td>\n",
       "      <td>0.655</td>\n",
       "      <td>0.661</td>\n",
       "      <td>72.4</td>\n",
       "      <td>12.4</td>\n",
       "      <td>7.4</td>\n",
       "      <td>5472.0</td>\n",
       "    </tr>\n",
       "    <tr>\n",
       "      <th>2</th>\n",
       "      <td>Bhutan</td>\n",
       "      <td>0.658</td>\n",
       "      <td>0.671</td>\n",
       "      <td>0.668</td>\n",
       "      <td>0.666</td>\n",
       "      <td>71.8</td>\n",
       "      <td>13.2</td>\n",
       "      <td>5.2</td>\n",
       "      <td>9438.0</td>\n",
       "    </tr>\n",
       "    <tr>\n",
       "      <th>3</th>\n",
       "      <td>India</td>\n",
       "      <td>0.645</td>\n",
       "      <td>0.645</td>\n",
       "      <td>0.642</td>\n",
       "      <td>0.633</td>\n",
       "      <td>67.2</td>\n",
       "      <td>11.9</td>\n",
       "      <td>6.7</td>\n",
       "      <td>6590.0</td>\n",
       "    </tr>\n",
       "    <tr>\n",
       "      <th>4</th>\n",
       "      <td>Maldives</td>\n",
       "      <td>0.750</td>\n",
       "      <td>0.755</td>\n",
       "      <td>0.734</td>\n",
       "      <td>0.747</td>\n",
       "      <td>79.9</td>\n",
       "      <td>12.6</td>\n",
       "      <td>7.3</td>\n",
       "      <td>15448.0</td>\n",
       "    </tr>\n",
       "  </tbody>\n",
       "</table>\n",
       "</div>"
      ],
      "text/plain": [
       "    Unnamed: 0  2018 HDI value  2019 HDI value  2020 HDI value  \\\n",
       "0  Afghanistan           0.483           0.488           0.483   \n",
       "1   Bangladesh           0.635           0.644           0.655   \n",
       "2       Bhutan           0.658           0.671           0.668   \n",
       "3        India           0.645           0.645           0.642   \n",
       "4     Maldives           0.750           0.755           0.734   \n",
       "\n",
       "   2021 HDI value  Life expectancy at birth in years (2021)  \\\n",
       "0           0.478                                      62.0   \n",
       "1           0.661                                      72.4   \n",
       "2           0.666                                      71.8   \n",
       "3           0.633                                      67.2   \n",
       "4           0.747                                      79.9   \n",
       "\n",
       "   Expected years of schooling in years (2021)  \\\n",
       "0                                         10.3   \n",
       "1                                         12.4   \n",
       "2                                         13.2   \n",
       "3                                         11.9   \n",
       "4                                         12.6   \n",
       "\n",
       "   Mean years of schooling in years (2021)  \\\n",
       "0                                      3.0   \n",
       "1                                      7.4   \n",
       "2                                      5.2   \n",
       "3                                      6.7   \n",
       "4                                      7.3   \n",
       "\n",
       "   Gross national income (GNI) per capita (2021)  \n",
       "0                                         1824.0  \n",
       "1                                         5472.0  \n",
       "2                                         9438.0  \n",
       "3                                         6590.0  \n",
       "4                                        15448.0  "
      ]
     },
     "execution_count": 25,
     "metadata": {},
     "output_type": "execute_result"
    }
   ],
   "source": [
    "HDI.head()"
   ]
  },
  {
   "cell_type": "code",
   "execution_count": null,
   "metadata": {},
   "outputs": [
    {
     "data": {
      "text/html": [
       "<div>\n",
       "<style scoped>\n",
       "    .dataframe tbody tr th:only-of-type {\n",
       "        vertical-align: middle;\n",
       "    }\n",
       "\n",
       "    .dataframe tbody tr th {\n",
       "        vertical-align: top;\n",
       "    }\n",
       "\n",
       "    .dataframe thead th {\n",
       "        text-align: right;\n",
       "    }\n",
       "</style>\n",
       "<table border=\"1\" class=\"dataframe\">\n",
       "  <thead>\n",
       "    <tr style=\"text-align: right;\">\n",
       "      <th></th>\n",
       "      <th>Unnamed: 0</th>\n",
       "      <th>2016</th>\n",
       "      <th>2017</th>\n",
       "      <th>2018</th>\n",
       "      <th>2019</th>\n",
       "    </tr>\n",
       "  </thead>\n",
       "  <tbody>\n",
       "    <tr>\n",
       "      <th>0</th>\n",
       "      <td>Bangladesh</td>\n",
       "      <td>4.113085</td>\n",
       "      <td>4.307637</td>\n",
       "      <td>4.591530</td>\n",
       "      <td>4.791032</td>\n",
       "    </tr>\n",
       "    <tr>\n",
       "      <th>1</th>\n",
       "      <td>India</td>\n",
       "      <td>7.609988</td>\n",
       "      <td>8.009788</td>\n",
       "      <td>8.536673</td>\n",
       "      <td>8.680879</td>\n",
       "    </tr>\n",
       "    <tr>\n",
       "      <th>2</th>\n",
       "      <td>Pakistan</td>\n",
       "      <td>7.953004</td>\n",
       "      <td>8.322207</td>\n",
       "      <td>8.668698</td>\n",
       "      <td>8.772413</td>\n",
       "    </tr>\n",
       "    <tr>\n",
       "      <th>3</th>\n",
       "      <td>Sri Lanka</td>\n",
       "      <td>17.275410</td>\n",
       "      <td>17.048510</td>\n",
       "      <td>17.891240</td>\n",
       "      <td>18.019520</td>\n",
       "    </tr>\n",
       "    <tr>\n",
       "      <th>4</th>\n",
       "      <td>Cambodia</td>\n",
       "      <td>2.828313</td>\n",
       "      <td>3.022650</td>\n",
       "      <td>3.263742</td>\n",
       "      <td>3.433210</td>\n",
       "    </tr>\n",
       "  </tbody>\n",
       "</table>\n",
       "</div>"
      ],
      "text/plain": [
       "   Unnamed: 0       2016       2017       2018       2019\n",
       "0  Bangladesh   4.113085   4.307637   4.591530   4.791032\n",
       "1       India   7.609988   8.009788   8.536673   8.680879\n",
       "2    Pakistan   7.953004   8.322207   8.668698   8.772413\n",
       "3   Sri Lanka  17.275410  17.048510  17.891240  18.019520\n",
       "4    Cambodia   2.828313   3.022650   3.263742   3.433210"
      ]
     },
     "execution_count": 26,
     "metadata": {},
     "output_type": "execute_result"
    }
   ],
   "source": [
    "prod.head()"
   ]
  },
  {
   "cell_type": "code",
   "execution_count": null,
   "metadata": {},
   "outputs": [],
   "source": [
    "#print(ease.info(), unemp.info(), GDPgrowth.info(), HDI.info(), prod.info())"
   ]
  }
 ],
 "metadata": {
  "kernelspec": {
   "display_name": "data103",
   "language": "python",
   "name": "python3"
  },
  "language_info": {
   "codemirror_mode": {
    "name": "ipython",
    "version": 3
   },
   "file_extension": ".py",
   "mimetype": "text/x-python",
   "name": "python",
   "nbconvert_exporter": "python",
   "pygments_lexer": "ipython3",
   "version": "3.10.9"
  },
  "orig_nbformat": 4
 },
 "nbformat": 4,
 "nbformat_minor": 2
}
