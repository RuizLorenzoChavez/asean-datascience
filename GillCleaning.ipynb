{
 "cells": [
  {
   "attachments": {},
   "cell_type": "markdown",
   "metadata": {},
   "source": [
    "### Importing Libraries"
   ]
  },
  {
   "cell_type": "code",
   "execution_count": 1,
   "metadata": {},
   "outputs": [],
   "source": [
    "import numpy as np\n",
    "import pandas as pd\n",
    "import matplotlib.pyplot as plt\n",
    "import seaborn as sns"
   ]
  },
  {
   "cell_type": "code",
   "execution_count": 2,
   "metadata": {},
   "outputs": [
    {
     "name": "stdout",
     "output_type": "stream",
     "text": [
      "Requirement already satisfied: openpyxl in c:\\users\\user\\anaconda3\\envs\\data103\\lib\\site-packages (3.1.2)\n",
      "Requirement already satisfied: et-xmlfile in c:\\users\\user\\anaconda3\\envs\\data103\\lib\\site-packages (from openpyxl) (1.1.0)\n",
      "Note: you may need to restart the kernel to use updated packages.\n"
     ]
    }
   ],
   "source": [
    "pip install openpyxl"
   ]
  },
  {
   "attachments": {},
   "cell_type": "markdown",
   "metadata": {},
   "source": [
    "### Datasets and Files"
   ]
  },
  {
   "cell_type": "code",
   "execution_count": 3,
   "metadata": {},
   "outputs": [],
   "source": [
    "ease = pd.read_csv('data/ease-of-doing-business.csv', usecols=['Country Name', 'Country Code', '2019'])\n",
    "unemp = pd.read_csv('data/unemployment.csv')\n",
    "GDPgrowth = pd.read_excel('data/economic-growth-indicators.xlsx', sheet_name='Growth Rate of GDP')\n",
    "HDI = pd.read_excel('data/economic-growth-indicators.xlsx', sheet_name='HDI')\n",
    "prod = pd.read_excel('data/economic-growth-indicators.xlsx', sheet_name='Productivity')\n"
   ]
  },
  {
   "cell_type": "code",
   "execution_count": 4,
   "metadata": {},
   "outputs": [],
   "source": [
    "#ease_df = ease.filter(['Country Name', 'Country Code', '2019']).set_index('Country Name')\n",
    "ease_df = ease.set_index('Country Name')"
   ]
  },
  {
   "cell_type": "code",
   "execution_count": 5,
   "metadata": {},
   "outputs": [
    {
     "data": {
      "text/plain": [
       "(266, 2)"
      ]
     },
     "metadata": {},
     "output_type": "display_data"
    },
    {
     "data": {
      "text/plain": [
       "(266, 67)"
      ]
     },
     "metadata": {},
     "output_type": "display_data"
    },
    {
     "data": {
      "text/plain": [
       "(19, 8)"
      ]
     },
     "metadata": {},
     "output_type": "display_data"
    },
    {
     "data": {
      "text/plain": [
       "(20, 9)"
      ]
     },
     "metadata": {},
     "output_type": "display_data"
    },
    {
     "data": {
      "text/plain": [
       "(12, 5)"
      ]
     },
     "metadata": {},
     "output_type": "display_data"
    }
   ],
   "source": [
    "display(ease_df.shape,unemp.shape, GDPgrowth.shape, HDI.shape, prod.shape)"
   ]
  },
  {
   "cell_type": "code",
   "execution_count": 6,
   "metadata": {},
   "outputs": [
    {
     "data": {
      "text/html": [
       "<div>\n",
       "<style scoped>\n",
       "    .dataframe tbody tr th:only-of-type {\n",
       "        vertical-align: middle;\n",
       "    }\n",
       "\n",
       "    .dataframe tbody tr th {\n",
       "        vertical-align: top;\n",
       "    }\n",
       "\n",
       "    .dataframe thead th {\n",
       "        text-align: right;\n",
       "    }\n",
       "</style>\n",
       "<table border=\"1\" class=\"dataframe\">\n",
       "  <thead>\n",
       "    <tr style=\"text-align: right;\">\n",
       "      <th></th>\n",
       "      <th>Country Code</th>\n",
       "      <th>2019</th>\n",
       "    </tr>\n",
       "    <tr>\n",
       "      <th>Country Name</th>\n",
       "      <th></th>\n",
       "      <th></th>\n",
       "    </tr>\n",
       "  </thead>\n",
       "  <tbody>\n",
       "    <tr>\n",
       "      <th>Aruba</th>\n",
       "      <td>ABW</td>\n",
       "      <td>NaN</td>\n",
       "    </tr>\n",
       "    <tr>\n",
       "      <th>Africa Eastern and Southern</th>\n",
       "      <td>AFE</td>\n",
       "      <td>NaN</td>\n",
       "    </tr>\n",
       "    <tr>\n",
       "      <th>Afghanistan</th>\n",
       "      <td>AFG</td>\n",
       "      <td>173.0</td>\n",
       "    </tr>\n",
       "    <tr>\n",
       "      <th>Africa Western and Central</th>\n",
       "      <td>AFW</td>\n",
       "      <td>NaN</td>\n",
       "    </tr>\n",
       "    <tr>\n",
       "      <th>Angola</th>\n",
       "      <td>AGO</td>\n",
       "      <td>177.0</td>\n",
       "    </tr>\n",
       "  </tbody>\n",
       "</table>\n",
       "</div>"
      ],
      "text/plain": [
       "                            Country Code   2019\n",
       "Country Name                                   \n",
       "Aruba                                ABW    NaN\n",
       "Africa Eastern and Southern          AFE    NaN\n",
       "Afghanistan                          AFG  173.0\n",
       "Africa Western and Central           AFW    NaN\n",
       "Angola                               AGO  177.0"
      ]
     },
     "execution_count": 6,
     "metadata": {},
     "output_type": "execute_result"
    }
   ],
   "source": [
    "ease_df.head()"
   ]
  },
  {
   "cell_type": "code",
   "execution_count": 7,
   "metadata": {},
   "outputs": [
    {
     "data": {
      "text/plain": [
       "77"
      ]
     },
     "execution_count": 7,
     "metadata": {},
     "output_type": "execute_result"
    }
   ],
   "source": [
    "ease_df.isnull().sum().sum()"
   ]
  },
  {
   "cell_type": "code",
   "execution_count": 8,
   "metadata": {},
   "outputs": [],
   "source": [
    "ease_df.dropna(axis=0, how='any', inplace = True) # 0 indicates the rows and inplace set to true modifies current dataframe"
   ]
  },
  {
   "cell_type": "code",
   "execution_count": 9,
   "metadata": {},
   "outputs": [
    {
     "data": {
      "text/plain": [
       "0"
      ]
     },
     "execution_count": 9,
     "metadata": {},
     "output_type": "execute_result"
    }
   ],
   "source": [
    "ease_df.isnull().sum().sum() "
   ]
  },
  {
   "cell_type": "code",
   "execution_count": 10,
   "metadata": {},
   "outputs": [
    {
     "name": "stdout",
     "output_type": "stream",
     "text": [
      "                     Country Code   2019\n",
      "Country Name                            \n",
      "Afghanistan                   AFG  173.0\n",
      "Angola                        AGO  177.0\n",
      "Albania                       ALB   82.0\n",
      "United Arab Emirates          ARE   16.0\n",
      "Argentina                     ARG  126.0\n",
      "...                           ...    ...\n",
      "Kosovo                        XKX   57.0\n",
      "Yemen, Rep.                   YEM  187.0\n",
      "South Africa                  ZAF   84.0\n",
      "Zambia                        ZMB   85.0\n",
      "Zimbabwe                      ZWE  140.0\n",
      "\n",
      "[189 rows x 2 columns]\n"
     ]
    }
   ],
   "source": [
    "print(ease_df)"
   ]
  },
  {
   "cell_type": "code",
   "execution_count": 11,
   "metadata": {},
   "outputs": [
    {
     "name": "stdout",
     "output_type": "stream",
     "text": [
      "['AFG' 'AGO' 'ALB' 'ARE' 'ARG' 'ARM' 'ATG' 'AUS' 'AUT' 'AZE' 'BDI' 'BEL'\n",
      " 'BEN' 'BFA' 'BGD' 'BGR' 'BHR' 'BHS' 'BIH' 'BLR' 'BLZ' 'BOL' 'BRA' 'BRB'\n",
      " 'BRN' 'BTN' 'BWA' 'CAF' 'CAN' 'CHE' 'CHL' 'CHN' 'CIV' 'CMR' 'COD' 'COG'\n",
      " 'COL' 'COM' 'CPV' 'CRI' 'CYP' 'CZE' 'DEU' 'DJI' 'DMA' 'DNK' 'DOM' 'DZA'\n",
      " 'ECU' 'EGY' 'ERI' 'ESP' 'EST' 'ETH' 'FIN' 'FJI' 'FRA' 'FSM' 'GAB' 'GBR'\n",
      " 'GEO' 'GHA' 'GIN' 'GMB' 'GNB' 'GNQ' 'GRC' 'GRD' 'GTM' 'GUY' 'HKG' 'HND'\n",
      " 'HRV' 'HTI' 'HUN' 'IDN' 'IND' 'IRL' 'IRN' 'IRQ' 'ISL' 'ISR' 'ITA' 'JAM'\n",
      " 'JOR' 'JPN' 'KAZ' 'KEN' 'KGZ' 'KHM' 'KIR' 'KNA' 'KOR' 'KWT' 'LAO' 'LBN'\n",
      " 'LBR' 'LBY' 'LCA' 'LKA' 'LSO' 'LTU' 'LUX' 'LVA' 'MAR' 'MDA' 'MDG' 'MDV'\n",
      " 'MEX' 'MHL' 'MKD' 'MLI' 'MLT' 'MMR' 'MNE' 'MNG' 'MOZ' 'MRT' 'MUS' 'MWI'\n",
      " 'MYS' 'NAM' 'NER' 'NGA' 'NIC' 'NLD' 'NOR' 'NPL' 'NZL' 'OMN' 'PAK' 'PAN'\n",
      " 'PER' 'PHL' 'PLW' 'PNG' 'POL' 'PRI' 'PRT' 'PRY' 'PSE' 'QAT' 'ROU' 'RUS'\n",
      " 'RWA' 'SAU' 'SDN' 'SEN' 'SGP' 'SLB' 'SLE' 'SLV' 'SMR' 'SOM' 'SRB' 'SSD'\n",
      " 'STP' 'SUR' 'SVK' 'SVN' 'SWE' 'SWZ' 'SYC' 'SYR' 'TCD' 'TGO' 'THA' 'TJK'\n",
      " 'TLS' 'TON' 'TTO' 'TUN' 'TUR' 'TZA' 'UGA' 'UKR' 'URY' 'USA' 'UZB' 'VCT'\n",
      " 'VEN' 'VNM' 'VUT' 'WSM' 'XKX' 'YEM' 'ZAF' 'ZMB' 'ZWE']\n"
     ]
    }
   ],
   "source": [
    "print(ease_df['Country Code'].unique())"
   ]
  },
  {
   "cell_type": "code",
   "execution_count": 12,
   "metadata": {},
   "outputs": [
    {
     "data": {
      "text/plain": [
       "Index(['Country Code', '2019'], dtype='object')"
      ]
     },
     "execution_count": 12,
     "metadata": {},
     "output_type": "execute_result"
    }
   ],
   "source": [
    "ease_df.columns"
   ]
  },
  {
   "cell_type": "code",
   "execution_count": 13,
   "metadata": {},
   "outputs": [
    {
     "name": "stdout",
     "output_type": "stream",
     "text": [
      "<class 'pandas.core.frame.DataFrame'>\n",
      "Index: 189 entries, Afghanistan to Zimbabwe\n",
      "Data columns (total 2 columns):\n",
      " #   Column        Non-Null Count  Dtype  \n",
      "---  ------        --------------  -----  \n",
      " 0   Country Code  189 non-null    object \n",
      " 1   2019          189 non-null    float64\n",
      "dtypes: float64(1), object(1)\n",
      "memory usage: 4.4+ KB\n"
     ]
    }
   ],
   "source": [
    "ease_df.info()"
   ]
  },
  {
   "cell_type": "code",
   "execution_count": 14,
   "metadata": {},
   "outputs": [],
   "source": [
    "#ease_df[\"Country Name\"] = ease_df[\"Country Name\"].replace(['Brunei Darussalam', 'Lao PDR'], ['Brunei', 'Laos'])\n",
    "ease_df.rename(index={'Brunei Darussalam':'Brunei','Lao PDR' : 'Laos' },inplace=True)"
   ]
  },
  {
   "cell_type": "code",
   "execution_count": 15,
   "metadata": {},
   "outputs": [
    {
     "data": {
      "text/plain": [
       "0"
      ]
     },
     "execution_count": 15,
     "metadata": {},
     "output_type": "execute_result"
    }
   ],
   "source": [
    "ease_df.isnull().sum().sum() "
   ]
  },
  {
   "cell_type": "code",
   "execution_count": 16,
   "metadata": {},
   "outputs": [
    {
     "data": {
      "text/plain": [
       "Country Code     BRN\n",
       "2019            66.0\n",
       "Name: Brunei, dtype: object"
      ]
     },
     "execution_count": 16,
     "metadata": {},
     "output_type": "execute_result"
    }
   ],
   "source": [
    "ease_df.loc['Brunei']"
   ]
  },
  {
   "cell_type": "code",
   "execution_count": 17,
   "metadata": {},
   "outputs": [],
   "source": [
    "ASEANCountries = [\"Brunei\", \"Cambodia\", \"Indonesia\", \"Laos\", \"Malaysia\", \"Myanmar\", \"Philippines\", \n",
    "                  \"Singapore\", \"Thailand\", \"Vietnam\"]"
   ]
  },
  {
   "cell_type": "code",
   "execution_count": 18,
   "metadata": {},
   "outputs": [],
   "source": [
    "#ease_df_sorted= ease_df.sort_values(by ='2019')"
   ]
  },
  {
   "cell_type": "code",
   "execution_count": 19,
   "metadata": {},
   "outputs": [],
   "source": [
    "#print(ease_df_sorted)"
   ]
  },
  {
   "cell_type": "code",
   "execution_count": 20,
   "metadata": {},
   "outputs": [],
   "source": [
    "ASEAN_ease = ease_df.loc[ASEANCountries].sort_values(by ='2019')"
   ]
  },
  {
   "cell_type": "code",
   "execution_count": 21,
   "metadata": {},
   "outputs": [
    {
     "data": {
      "image/png": "[encoded data removed]",
      "text/plain": [
       "<Figure size 500x800 with 1 Axes>"
      ]
     },
     "metadata": {},
     "output_type": "display_data"
    }
   ],
   "source": [
    "fig = plt.figure(figsize=(5,8))\n",
    "ax = fig.add_subplot(1,1,1)\n",
    "\n",
    "ASEAN_ease.plot(y = '2019', fontsize=10, kind='barh', ax=ax, edgecolor='w', color = '#F4BA00')\n",
    "\n",
    "ax.set_title('Ease of Doing Business Rank of ASEAN Countries', fontsize=12, fontweight ='bold')\n",
    "ax.set_xlabel('Rank', fontsize=10)\n",
    "ax.set_ylabel('Country Names', fontsize=10)\n",
    "ax.spines['right'].set_visible(False)\n",
    "ax.spines['top'].set_visible(False)\n",
    "ax.yaxis.grid(False)\n",
    "ax.legend(fontsize=6)\n",
    "\n",
    "for bars in ax.containers:\n",
    "    ax.bar_label(bars)\n",
    "\n",
    "\n",
    "plt.tight_layout()\n",
    "#plt.savefig(fname = 'Images/Name')"
   ]
  },
  {
   "cell_type": "code",
   "execution_count": 22,
   "metadata": {},
   "outputs": [
    {
     "data": {
      "text/html": [
       "<div>\n",
       "<style scoped>\n",
       "    .dataframe tbody tr th:only-of-type {\n",
       "        vertical-align: middle;\n",
       "    }\n",
       "\n",
       "    .dataframe tbody tr th {\n",
       "        vertical-align: top;\n",
       "    }\n",
       "\n",
       "    .dataframe thead th {\n",
       "        text-align: right;\n",
       "    }\n",
       "</style>\n",
       "<table border=\"1\" class=\"dataframe\">\n",
       "  <thead>\n",
       "    <tr style=\"text-align: right;\">\n",
       "      <th></th>\n",
       "      <th>Country Name</th>\n",
       "      <th>Country Code</th>\n",
       "      <th>Indicator Name</th>\n",
       "      <th>Indicator Code</th>\n",
       "      <th>1960</th>\n",
       "      <th>1961</th>\n",
       "      <th>1962</th>\n",
       "      <th>1963</th>\n",
       "      <th>1964</th>\n",
       "      <th>1965</th>\n",
       "      <th>...</th>\n",
       "      <th>2013</th>\n",
       "      <th>2014</th>\n",
       "      <th>2015</th>\n",
       "      <th>2016</th>\n",
       "      <th>2017</th>\n",
       "      <th>2018</th>\n",
       "      <th>2019</th>\n",
       "      <th>2020</th>\n",
       "      <th>2021</th>\n",
       "      <th>2022</th>\n",
       "    </tr>\n",
       "  </thead>\n",
       "  <tbody>\n",
       "    <tr>\n",
       "      <th>0</th>\n",
       "      <td>Aruba</td>\n",
       "      <td>ABW</td>\n",
       "      <td>Unemployment, total (% of total labor force) (...</td>\n",
       "      <td>SL.UEM.TOTL.ZS</td>\n",
       "      <td>NaN</td>\n",
       "      <td>NaN</td>\n",
       "      <td>NaN</td>\n",
       "      <td>NaN</td>\n",
       "      <td>NaN</td>\n",
       "      <td>NaN</td>\n",
       "      <td>...</td>\n",
       "      <td>NaN</td>\n",
       "      <td>NaN</td>\n",
       "      <td>NaN</td>\n",
       "      <td>NaN</td>\n",
       "      <td>NaN</td>\n",
       "      <td>NaN</td>\n",
       "      <td>NaN</td>\n",
       "      <td>NaN</td>\n",
       "      <td>NaN</td>\n",
       "      <td>NaN</td>\n",
       "    </tr>\n",
       "    <tr>\n",
       "      <th>1</th>\n",
       "      <td>Africa Eastern and Southern</td>\n",
       "      <td>AFE</td>\n",
       "      <td>Unemployment, total (% of total labor force) (...</td>\n",
       "      <td>SL.UEM.TOTL.ZS</td>\n",
       "      <td>NaN</td>\n",
       "      <td>NaN</td>\n",
       "      <td>NaN</td>\n",
       "      <td>NaN</td>\n",
       "      <td>NaN</td>\n",
       "      <td>NaN</td>\n",
       "      <td>...</td>\n",
       "      <td>6.512784</td>\n",
       "      <td>6.555645</td>\n",
       "      <td>6.707142</td>\n",
       "      <td>6.855589</td>\n",
       "      <td>6.940365</td>\n",
       "      <td>6.913046</td>\n",
       "      <td>7.121664</td>\n",
       "      <td>7.631303</td>\n",
       "      <td>7.920219</td>\n",
       "      <td>7.916831</td>\n",
       "    </tr>\n",
       "    <tr>\n",
       "      <th>2</th>\n",
       "      <td>Afghanistan</td>\n",
       "      <td>AFG</td>\n",
       "      <td>Unemployment, total (% of total labor force) (...</td>\n",
       "      <td>SL.UEM.TOTL.ZS</td>\n",
       "      <td>NaN</td>\n",
       "      <td>NaN</td>\n",
       "      <td>NaN</td>\n",
       "      <td>NaN</td>\n",
       "      <td>NaN</td>\n",
       "      <td>NaN</td>\n",
       "      <td>...</td>\n",
       "      <td>7.949000</td>\n",
       "      <td>7.910000</td>\n",
       "      <td>8.989000</td>\n",
       "      <td>10.086000</td>\n",
       "      <td>11.180000</td>\n",
       "      <td>11.110000</td>\n",
       "      <td>11.085000</td>\n",
       "      <td>11.710000</td>\n",
       "      <td>NaN</td>\n",
       "      <td>NaN</td>\n",
       "    </tr>\n",
       "    <tr>\n",
       "      <th>3</th>\n",
       "      <td>Africa Western and Central</td>\n",
       "      <td>AFW</td>\n",
       "      <td>Unemployment, total (% of total labor force) (...</td>\n",
       "      <td>SL.UEM.TOTL.ZS</td>\n",
       "      <td>NaN</td>\n",
       "      <td>NaN</td>\n",
       "      <td>NaN</td>\n",
       "      <td>NaN</td>\n",
       "      <td>NaN</td>\n",
       "      <td>NaN</td>\n",
       "      <td>...</td>\n",
       "      <td>3.804447</td>\n",
       "      <td>3.985878</td>\n",
       "      <td>4.241136</td>\n",
       "      <td>4.112958</td>\n",
       "      <td>4.140484</td>\n",
       "      <td>4.201599</td>\n",
       "      <td>4.261414</td>\n",
       "      <td>4.914143</td>\n",
       "      <td>4.873635</td>\n",
       "      <td>4.742175</td>\n",
       "    </tr>\n",
       "    <tr>\n",
       "      <th>4</th>\n",
       "      <td>Angola</td>\n",
       "      <td>AGO</td>\n",
       "      <td>Unemployment, total (% of total labor force) (...</td>\n",
       "      <td>SL.UEM.TOTL.ZS</td>\n",
       "      <td>NaN</td>\n",
       "      <td>NaN</td>\n",
       "      <td>NaN</td>\n",
       "      <td>NaN</td>\n",
       "      <td>NaN</td>\n",
       "      <td>NaN</td>\n",
       "      <td>...</td>\n",
       "      <td>8.834000</td>\n",
       "      <td>9.580000</td>\n",
       "      <td>9.584000</td>\n",
       "      <td>9.586000</td>\n",
       "      <td>9.535000</td>\n",
       "      <td>9.522000</td>\n",
       "      <td>9.481000</td>\n",
       "      <td>10.350000</td>\n",
       "      <td>10.384000</td>\n",
       "      <td>10.209000</td>\n",
       "    </tr>\n",
       "  </tbody>\n",
       "</table>\n",
       "<p>5 rows × 67 columns</p>\n",
       "</div>"
      ],
      "text/plain": [
       "                  Country Name Country Code  \\\n",
       "0                        Aruba          ABW   \n",
       "1  Africa Eastern and Southern          AFE   \n",
       "2                  Afghanistan          AFG   \n",
       "3   Africa Western and Central          AFW   \n",
       "4                       Angola          AGO   \n",
       "\n",
       "                                      Indicator Name  Indicator Code  1960  \\\n",
       "0  Unemployment, total (% of total labor force) (...  SL.UEM.TOTL.ZS   NaN   \n",
       "1  Unemployment, total (% of total labor force) (...  SL.UEM.TOTL.ZS   NaN   \n",
       "2  Unemployment, total (% of total labor force) (...  SL.UEM.TOTL.ZS   NaN   \n",
       "3  Unemployment, total (% of total labor force) (...  SL.UEM.TOTL.ZS   NaN   \n",
       "4  Unemployment, total (% of total labor force) (...  SL.UEM.TOTL.ZS   NaN   \n",
       "\n",
       "   1961  1962  1963  1964  1965  ...      2013      2014      2015       2016  \\\n",
       "0   NaN   NaN   NaN   NaN   NaN  ...       NaN       NaN       NaN        NaN   \n",
       "1   NaN   NaN   NaN   NaN   NaN  ...  6.512784  6.555645  6.707142   6.855589   \n",
       "2   NaN   NaN   NaN   NaN   NaN  ...  7.949000  7.910000  8.989000  10.086000   \n",
       "3   NaN   NaN   NaN   NaN   NaN  ...  3.804447  3.985878  4.241136   4.112958   \n",
       "4   NaN   NaN   NaN   NaN   NaN  ...  8.834000  9.580000  9.584000   9.586000   \n",
       "\n",
       "        2017       2018       2019       2020       2021       2022  \n",
       "0        NaN        NaN        NaN        NaN        NaN        NaN  \n",
       "1   6.940365   6.913046   7.121664   7.631303   7.920219   7.916831  \n",
       "2  11.180000  11.110000  11.085000  11.710000        NaN        NaN  \n",
       "3   4.140484   4.201599   4.261414   4.914143   4.873635   4.742175  \n",
       "4   9.535000   9.522000   9.481000  10.350000  10.384000  10.209000  \n",
       "\n",
       "[5 rows x 67 columns]"
      ]
     },
     "execution_count": 22,
     "metadata": {},
     "output_type": "execute_result"
    }
   ],
   "source": [
    "unemp.head()"
   ]
  },
  {
   "cell_type": "code",
   "execution_count": 23,
   "metadata": {},
   "outputs": [
    {
     "data": {
      "text/html": [
       "<div>\n",
       "<style scoped>\n",
       "    .dataframe tbody tr th:only-of-type {\n",
       "        vertical-align: middle;\n",
       "    }\n",
       "\n",
       "    .dataframe tbody tr th {\n",
       "        vertical-align: top;\n",
       "    }\n",
       "\n",
       "    .dataframe thead th {\n",
       "        text-align: right;\n",
       "    }\n",
       "</style>\n",
       "<table border=\"1\" class=\"dataframe\">\n",
       "  <thead>\n",
       "    <tr style=\"text-align: right;\">\n",
       "      <th></th>\n",
       "      <th>Unnamed: 0</th>\n",
       "      <th>2018</th>\n",
       "      <th>2019</th>\n",
       "      <th>2020</th>\n",
       "      <th>2021</th>\n",
       "      <th>2022</th>\n",
       "      <th>2023</th>\n",
       "      <th>2024</th>\n",
       "    </tr>\n",
       "  </thead>\n",
       "  <tbody>\n",
       "    <tr>\n",
       "      <th>0</th>\n",
       "      <td>Afghanistan</td>\n",
       "      <td>1.2</td>\n",
       "      <td>3.9</td>\n",
       "      <td>-2.4</td>\n",
       "      <td>-20.7</td>\n",
       "      <td>NaN</td>\n",
       "      <td>NaN</td>\n",
       "      <td>NaN</td>\n",
       "    </tr>\n",
       "    <tr>\n",
       "      <th>1</th>\n",
       "      <td>Bangladesh</td>\n",
       "      <td>7.3</td>\n",
       "      <td>7.9</td>\n",
       "      <td>3.4</td>\n",
       "      <td>6.9</td>\n",
       "      <td>7.1</td>\n",
       "      <td>5.3</td>\n",
       "      <td>6.5</td>\n",
       "    </tr>\n",
       "    <tr>\n",
       "      <th>2</th>\n",
       "      <td>Bhutan</td>\n",
       "      <td>3.1</td>\n",
       "      <td>5.8</td>\n",
       "      <td>-10.0</td>\n",
       "      <td>4.1</td>\n",
       "      <td>4.7</td>\n",
       "      <td>4.6</td>\n",
       "      <td>4.2</td>\n",
       "    </tr>\n",
       "    <tr>\n",
       "      <th>3</th>\n",
       "      <td>India</td>\n",
       "      <td>6.5</td>\n",
       "      <td>3.9</td>\n",
       "      <td>-5.8</td>\n",
       "      <td>9.1</td>\n",
       "      <td>6.8</td>\n",
       "      <td>6.4</td>\n",
       "      <td>6.7</td>\n",
       "    </tr>\n",
       "    <tr>\n",
       "      <th>4</th>\n",
       "      <td>Maldives</td>\n",
       "      <td>8.1</td>\n",
       "      <td>7.1</td>\n",
       "      <td>-33.5</td>\n",
       "      <td>41.7</td>\n",
       "      <td>12.3</td>\n",
       "      <td>7.1</td>\n",
       "      <td>6.9</td>\n",
       "    </tr>\n",
       "  </tbody>\n",
       "</table>\n",
       "</div>"
      ],
      "text/plain": [
       "    Unnamed: 0  2018  2019  2020  2021  2022  2023  2024\n",
       "0  Afghanistan   1.2   3.9  -2.4 -20.7   NaN   NaN   NaN\n",
       "1   Bangladesh   7.3   7.9   3.4   6.9   7.1   5.3   6.5\n",
       "2       Bhutan   3.1   5.8 -10.0   4.1   4.7   4.6   4.2\n",
       "3        India   6.5   3.9  -5.8   9.1   6.8   6.4   6.7\n",
       "4     Maldives   8.1   7.1 -33.5  41.7  12.3   7.1   6.9"
      ]
     },
     "execution_count": 23,
     "metadata": {},
     "output_type": "execute_result"
    }
   ],
   "source": [
    "GDPgrowth.head()"
   ]
  },
  {
   "cell_type": "code",
   "execution_count": 24,
   "metadata": {},
   "outputs": [
    {
     "data": {
      "text/html": [
       "<div>\n",
       "<style scoped>\n",
       "    .dataframe tbody tr th:only-of-type {\n",
       "        vertical-align: middle;\n",
       "    }\n",
       "\n",
       "    .dataframe tbody tr th {\n",
       "        vertical-align: top;\n",
       "    }\n",
       "\n",
       "    .dataframe thead th {\n",
       "        text-align: right;\n",
       "    }\n",
       "</style>\n",
       "<table border=\"1\" class=\"dataframe\">\n",
       "  <thead>\n",
       "    <tr style=\"text-align: right;\">\n",
       "      <th></th>\n",
       "      <th>Unnamed: 0</th>\n",
       "      <th>2018 HDI value</th>\n",
       "      <th>2019 HDI value</th>\n",
       "      <th>2020 HDI value</th>\n",
       "      <th>2021 HDI value</th>\n",
       "      <th>Life expectancy at birth in years (2021)</th>\n",
       "      <th>Expected years of schooling in years (2021)</th>\n",
       "      <th>Mean years of schooling in years (2021)</th>\n",
       "      <th>Gross national income (GNI) per capita (2021)</th>\n",
       "    </tr>\n",
       "  </thead>\n",
       "  <tbody>\n",
       "    <tr>\n",
       "      <th>0</th>\n",
       "      <td>Afghanistan</td>\n",
       "      <td>0.483</td>\n",
       "      <td>0.488</td>\n",
       "      <td>0.483</td>\n",
       "      <td>0.478</td>\n",
       "      <td>62.0</td>\n",
       "      <td>10.3</td>\n",
       "      <td>3.0</td>\n",
       "      <td>1824.0</td>\n",
       "    </tr>\n",
       "    <tr>\n",
       "      <th>1</th>\n",
       "      <td>Bangladesh</td>\n",
       "      <td>0.635</td>\n",
       "      <td>0.644</td>\n",
       "      <td>0.655</td>\n",
       "      <td>0.661</td>\n",
       "      <td>72.4</td>\n",
       "      <td>12.4</td>\n",
       "      <td>7.4</td>\n",
       "      <td>5472.0</td>\n",
       "    </tr>\n",
       "    <tr>\n",
       "      <th>2</th>\n",
       "      <td>Bhutan</td>\n",
       "      <td>0.658</td>\n",
       "      <td>0.671</td>\n",
       "      <td>0.668</td>\n",
       "      <td>0.666</td>\n",
       "      <td>71.8</td>\n",
       "      <td>13.2</td>\n",
       "      <td>5.2</td>\n",
       "      <td>9438.0</td>\n",
       "    </tr>\n",
       "    <tr>\n",
       "      <th>3</th>\n",
       "      <td>India</td>\n",
       "      <td>0.645</td>\n",
       "      <td>0.645</td>\n",
       "      <td>0.642</td>\n",
       "      <td>0.633</td>\n",
       "      <td>67.2</td>\n",
       "      <td>11.9</td>\n",
       "      <td>6.7</td>\n",
       "      <td>6590.0</td>\n",
       "    </tr>\n",
       "    <tr>\n",
       "      <th>4</th>\n",
       "      <td>Maldives</td>\n",
       "      <td>0.750</td>\n",
       "      <td>0.755</td>\n",
       "      <td>0.734</td>\n",
       "      <td>0.747</td>\n",
       "      <td>79.9</td>\n",
       "      <td>12.6</td>\n",
       "      <td>7.3</td>\n",
       "      <td>15448.0</td>\n",
       "    </tr>\n",
       "  </tbody>\n",
       "</table>\n",
       "</div>"
      ],
      "text/plain": [
       "    Unnamed: 0  2018 HDI value  2019 HDI value  2020 HDI value  \\\n",
       "0  Afghanistan           0.483           0.488           0.483   \n",
       "1   Bangladesh           0.635           0.644           0.655   \n",
       "2       Bhutan           0.658           0.671           0.668   \n",
       "3        India           0.645           0.645           0.642   \n",
       "4     Maldives           0.750           0.755           0.734   \n",
       "\n",
       "   2021 HDI value  Life expectancy at birth in years (2021)  \\\n",
       "0           0.478                                      62.0   \n",
       "1           0.661                                      72.4   \n",
       "2           0.666                                      71.8   \n",
       "3           0.633                                      67.2   \n",
       "4           0.747                                      79.9   \n",
       "\n",
       "   Expected years of schooling in years (2021)  \\\n",
       "0                                         10.3   \n",
       "1                                         12.4   \n",
       "2                                         13.2   \n",
       "3                                         11.9   \n",
       "4                                         12.6   \n",
       "\n",
       "   Mean years of schooling in years (2021)  \\\n",
       "0                                      3.0   \n",
       "1                                      7.4   \n",
       "2                                      5.2   \n",
       "3                                      6.7   \n",
       "4                                      7.3   \n",
       "\n",
       "   Gross national income (GNI) per capita (2021)  \n",
       "0                                         1824.0  \n",
       "1                                         5472.0  \n",
       "2                                         9438.0  \n",
       "3                                         6590.0  \n",
       "4                                        15448.0  "
      ]
     },
     "execution_count": 24,
     "metadata": {},
     "output_type": "execute_result"
    }
   ],
   "source": [
    "HDI.head()"
   ]
  },
  {
   "cell_type": "code",
   "execution_count": 25,
   "metadata": {},
   "outputs": [
    {
     "data": {
      "text/html": [
       "<div>\n",
       "<style scoped>\n",
       "    .dataframe tbody tr th:only-of-type {\n",
       "        vertical-align: middle;\n",
       "    }\n",
       "\n",
       "    .dataframe tbody tr th {\n",
       "        vertical-align: top;\n",
       "    }\n",
       "\n",
       "    .dataframe thead th {\n",
       "        text-align: right;\n",
       "    }\n",
       "</style>\n",
       "<table border=\"1\" class=\"dataframe\">\n",
       "  <thead>\n",
       "    <tr style=\"text-align: right;\">\n",
       "      <th></th>\n",
       "      <th>Unnamed: 0</th>\n",
       "      <th>2016</th>\n",
       "      <th>2017</th>\n",
       "      <th>2018</th>\n",
       "      <th>2019</th>\n",
       "    </tr>\n",
       "  </thead>\n",
       "  <tbody>\n",
       "    <tr>\n",
       "      <th>0</th>\n",
       "      <td>Bangladesh</td>\n",
       "      <td>4.113085</td>\n",
       "      <td>4.307637</td>\n",
       "      <td>4.591530</td>\n",
       "      <td>4.791032</td>\n",
       "    </tr>\n",
       "    <tr>\n",
       "      <th>1</th>\n",
       "      <td>India</td>\n",
       "      <td>7.609988</td>\n",
       "      <td>8.009788</td>\n",
       "      <td>8.536673</td>\n",
       "      <td>8.680879</td>\n",
       "    </tr>\n",
       "    <tr>\n",
       "      <th>2</th>\n",
       "      <td>Pakistan</td>\n",
       "      <td>7.953004</td>\n",
       "      <td>8.322207</td>\n",
       "      <td>8.668698</td>\n",
       "      <td>8.772413</td>\n",
       "    </tr>\n",
       "    <tr>\n",
       "      <th>3</th>\n",
       "      <td>Sri Lanka</td>\n",
       "      <td>17.275410</td>\n",
       "      <td>17.048510</td>\n",
       "      <td>17.891240</td>\n",
       "      <td>18.019520</td>\n",
       "    </tr>\n",
       "    <tr>\n",
       "      <th>4</th>\n",
       "      <td>Cambodia</td>\n",
       "      <td>2.828313</td>\n",
       "      <td>3.022650</td>\n",
       "      <td>3.263742</td>\n",
       "      <td>3.433210</td>\n",
       "    </tr>\n",
       "  </tbody>\n",
       "</table>\n",
       "</div>"
      ],
      "text/plain": [
       "   Unnamed: 0       2016       2017       2018       2019\n",
       "0  Bangladesh   4.113085   4.307637   4.591530   4.791032\n",
       "1       India   7.609988   8.009788   8.536673   8.680879\n",
       "2    Pakistan   7.953004   8.322207   8.668698   8.772413\n",
       "3   Sri Lanka  17.275410  17.048510  17.891240  18.019520\n",
       "4    Cambodia   2.828313   3.022650   3.263742   3.433210"
      ]
     },
     "execution_count": 25,
     "metadata": {},
     "output_type": "execute_result"
    }
   ],
   "source": [
    "prod.head()"
   ]
  },
  {
   "cell_type": "code",
   "execution_count": 26,
   "metadata": {},
   "outputs": [],
   "source": [
    "#print(ease.info(), unemp.info(), GDPgrowth.info(), HDI.info(), prod.info())"
   ]
  }
 ],
 "metadata": {
  "kernelspec": {
   "display_name": "data103",
   "language": "python",
   "name": "python3"
  },
  "language_info": {
   "codemirror_mode": {
    "name": "ipython",
    "version": 3
   },
   "file_extension": ".py",
   "mimetype": "text/x-python",
   "name": "python",
   "nbconvert_exporter": "python",
   "pygments_lexer": "ipython3",
   "version": "3.10.9"
  },
  "orig_nbformat": 4
 },
 "nbformat": 4,
 "nbformat_minor": 2
}
